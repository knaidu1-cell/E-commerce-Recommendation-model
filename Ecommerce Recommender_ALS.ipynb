{
 "cells": [
  {
   "cell_type": "code",
   "execution_count": 1,
   "id": "e0b8bede-2d4f-49cc-8ad8-893d7b528962",
   "metadata": {},
   "outputs": [],
   "source": [
    "import pandas as pd\n",
    "import numpy as np\n",
    "import matplotlib.pyplot as plt\n",
    "import seaborn as sns\n",
    "import warnings\n",
    "import sklearn\n",
    "from sklearn.decomposition import TruncatedSVD\n"
   ]
  },
  {
   "cell_type": "code",
   "execution_count": 3,
   "id": "b4366dfe-a7c1-42ab-af46-b92140299432",
   "metadata": {},
   "outputs": [],
   "source": [
    "import os\n",
    "import sys\n",
    "import math\n",
    "import pyspark\n",
    "from pyspark.sql import SparkSession\n",
    "from pyspark.context import SparkContext\n",
    "import pyspark.sql.functions as f\n",
    "from pyspark.sql.types import DoubleType\n",
    "import matplotlib.pyplot as plt"
   ]
  },
  {
   "cell_type": "code",
   "execution_count": 5,
   "id": "109ef3d3-c37c-4fa7-945f-2458c4c7ea31",
   "metadata": {},
   "outputs": [],
   "source": [
    "import os\n",
    "os.environ['SPARK_LOCAL_IP']='127.0.0.1'"
   ]
  },
  {
   "cell_type": "code",
   "execution_count": 7,
   "id": "bd0515b9-c60f-46f3-95bf-f38ddbe5bf7a",
   "metadata": {},
   "outputs": [],
   "source": [
    "os.environ['SPARK_HOME'] = \"/opt/homebrew/Cellar/apache-spark/3.5.3/libexec\"\n",
    "os.environ['PYSPARK_DRIVER_PYTHON'] = 'jupyter'\n",
    "#os.environ['PYSPARK_DRIVER_PYTHON_OPTS'] = 'lab'\n",
    "os.environ['PYSPARK_PYTHON'] = 'python'"
   ]
  },
  {
   "cell_type": "code",
   "execution_count": 9,
   "id": "df31a440-8c30-498c-95e8-aaccb8b7434e",
   "metadata": {},
   "outputs": [
    {
     "name": "stdout",
     "output_type": "stream",
     "text": [
      "System version: 3.12.4 | packaged by Anaconda, Inc. | (main, Jun 18 2024, 10:07:17) [Clang 14.0.6 ]\n",
      "Pandas version: 2.2.3\n",
      "PySpark version: 3.5.3\n"
     ]
    }
   ],
   "source": [
    "import warnings\n",
    "warnings.simplefilter(action='ignore', category=FutureWarning)\n",
    "print(f\"System version: {sys.version}\")\n",
    "print(f\"Pandas version: {pd.__version__}\")\n",
    "print(f\"PySpark version: {pyspark.__version__}\")"
   ]
  },
  {
   "cell_type": "code",
   "execution_count": 241,
   "id": "3fce5532-b11e-494a-9a5f-dddb5530a759",
   "metadata": {},
   "outputs": [],
   "source": [
    "from pyspark.sql.functions import *\n",
    "from pyspark.sql.types import *\n",
    "from pyspark.ml.recommendation import ALS\n",
    "from pyspark.mllib.recommendation import ALS as ALS_m\n",
    "from pyspark.ml.evaluation import RegressionEvaluator \n",
    "import pyspark.sql.functions as F\n",
    "from pyspark.sql.functions import col\n",
    "from pyspark.ml.tuning import CrossValidator\n",
    "from pyspark.sql.types import StructType, StructField\n",
    "from pyspark.sql.types import FloatType, IntegerType, LongType\n",
    "\n"
   ]
  },
  {
   "cell_type": "code",
   "execution_count": 12,
   "id": "0c35fbcf-bade-4833-97cf-7a5571a13d95",
   "metadata": {},
   "outputs": [],
   "source": [
    "#!/opt/homebrew/Cellar/apache-spark/3.5.3/libexec/bin/spark-shell --driver-memory 5g"
   ]
  },
  {
   "cell_type": "code",
   "execution_count": 15,
   "id": "26f7aee1-c357-40b6-8c5d-eba0595eb509",
   "metadata": {},
   "outputs": [],
   "source": [
    "from pyspark.conf import SparkConf\n",
    "from pyspark.context import SparkContext\n",
    "conf = SparkConf()"
   ]
  },
  {
   "cell_type": "code",
   "execution_count": 17,
   "id": "1d4e2210-6b38-494d-aa3a-160319872261",
   "metadata": {},
   "outputs": [],
   "source": [
    "#conf = spark.sparkContext._conf.setAll([('spark.executor.memory', '20g'), ('spark.app.name', 'Spark Updated Conf'), ('spark.executor.cores', '4'), ('spark.cores.max', '4'), ('spark.driver.memory','4g'), (\"spark.sql.shuffle.partitions\", \"16\"),(\"spark.driver.maxResultSize\",\"4g\"),(\"spark.sql.execution.arrow.enabled\", \"true\")])"
   ]
  },
  {
   "cell_type": "code",
   "execution_count": 19,
   "id": "1b1fb6af-064f-4d89-8fa5-45f6e5bbbe29",
   "metadata": {},
   "outputs": [
    {
     "data": {
      "text/plain": [
       "<pyspark.conf.SparkConf at 0x11b391460>"
      ]
     },
     "execution_count": 19,
     "metadata": {},
     "output_type": "execute_result"
    }
   ],
   "source": [
    "conf.setExecutorEnv(pairs =[('spark.executor.memory', '20g'), ('spark.app.name', 'Spark Updated Conf'), ('spark.executor.cores', '4'), ('spark.cores.max', '4'), ('spark.driver.memory','4g'), (\"spark.sql.shuffle.partitions\", \"16\"),(\"spark.driver.maxResultSize\",\"4g\"),(\"spark.sql.execution.arrow.enabled\", \"true\")])"
   ]
  },
  {
   "cell_type": "code",
   "execution_count": 21,
   "id": "1c05ca43-91e8-42fc-bbac-ba535caa79a4",
   "metadata": {},
   "outputs": [
    {
     "name": "stdout",
     "output_type": "stream",
     "text": [
      "spark.executorEnv.spark.executor.memory=20g\n",
      "spark.executorEnv.spark.app.name=Spark Updated Conf\n",
      "spark.executorEnv.spark.executor.cores=4\n",
      "spark.executorEnv.spark.cores.max=4\n",
      "spark.executorEnv.spark.driver.memory=4g\n",
      "spark.executorEnv.spark.sql.shuffle.partitions=16\n",
      "spark.executorEnv.spark.driver.maxResultSize=4g\n",
      "spark.executorEnv.spark.sql.execution.arrow.enabled=true\n"
     ]
    }
   ],
   "source": [
    "print(conf.toDebugString())"
   ]
  },
  {
   "cell_type": "code",
   "execution_count": 23,
   "id": "6b7aa99c-56a1-4982-97b2-016c75757919",
   "metadata": {},
   "outputs": [],
   "source": [
    "# from pyspark import SparkContext\n",
    "# SparkContext.setSystemProperty('spark.executor.memory', '10g')"
   ]
  },
  {
   "cell_type": "code",
   "execution_count": 25,
   "id": "cceb8c67-8ff3-47b5-a939-5cf3d6b97bb1",
   "metadata": {},
   "outputs": [],
   "source": [
    "#spark.sparkContext.stop()"
   ]
  },
  {
   "cell_type": "code",
   "execution_count": 27,
   "id": "e77eb0a2-1906-4741-ba37-3cd70392a6a5",
   "metadata": {},
   "outputs": [
    {
     "name": "stderr",
     "output_type": "stream",
     "text": [
      "Setting default log level to \"WARN\".\n",
      "To adjust logging level use sc.setLogLevel(newLevel). For SparkR, use setLogLevel(newLevel).\n",
      "24/12/01 13:24:32 WARN NativeCodeLoader: Unable to load native-hadoop library for your platform... using builtin-java classes where applicable\n"
     ]
    },
    {
     "data": {
      "text/html": [
       "\n",
       "            <div>\n",
       "                <p><b>SparkSession - in-memory</b></p>\n",
       "                \n",
       "        <div>\n",
       "            <p><b>SparkContext</b></p>\n",
       "\n",
       "            <p><a href=\"http://localhost:4040\">Spark UI</a></p>\n",
       "\n",
       "            <dl>\n",
       "              <dt>Version</dt>\n",
       "                <dd><code>v3.5.3</code></dd>\n",
       "              <dt>Master</dt>\n",
       "                <dd><code>local[*]</code></dd>\n",
       "              <dt>AppName</dt>\n",
       "                <dd><code>Recommender ALS</code></dd>\n",
       "            </dl>\n",
       "        </div>\n",
       "        \n",
       "            </div>\n",
       "        "
      ],
      "text/plain": [
       "<pyspark.sql.session.SparkSession at 0x11b3b9880>"
      ]
     },
     "execution_count": 27,
     "metadata": {},
     "output_type": "execute_result"
    }
   ],
   "source": [
    "#spark = SparkSession.builder.appName('Recommender').getOrCreate() \n",
    "#spark = SparkSession.builder.config(conf=conf).getOrCreate()\n",
    "spark = SparkSession.builder.appName('Recommender ALS').config(conf=conf).getOrCreate() \n",
    "spark.conf.set(\"spark.sql.analyzer.failAmbiguousSelfJoin\", \"false\")\n",
    "spark.sparkContext.setLogLevel(\"ERROR\")\n",
    "#spark.conf.set(\"spark.executor.memory\", \"10g\")\n",
    "#spark.conf.set(\"spark.executor.cores\", \"2\")\n",
    "spark"
   ]
  },
  {
   "cell_type": "code",
   "execution_count": null,
   "id": "e1068c61-9b82-4a4e-a94c-f29cf092c396",
   "metadata": {},
   "outputs": [],
   "source": []
  },
  {
   "cell_type": "code",
   "execution_count": 30,
   "id": "cd662829-ed07-4361-9998-4a92de779c15",
   "metadata": {},
   "outputs": [
    {
     "name": "stderr",
     "output_type": "stream",
     "text": [
      "                                                                                \r"
     ]
    },
    {
     "name": "stdout",
     "output_type": "stream",
     "text": [
      "+------------------+-----+------------+-------------------+-------------+------------------+----------------+-----------------+-----------------+----------------+--------------------+--------------------+------------+--------------------+-------------+--------------+--------------------+--------------------+--------------------+-------------------+-----------+------------+-------------------+-------------------+-----------------------------+\n",
      "|       total_value|price|review_score|order_item_quantity|freight_value|product_photos_qty|product_weight_g|product_length_cm|product_height_cm|product_width_cm|            order_id|         customer_id|order_status|  customer_unique_id|customer_city|customer_state|           review_id|          product_id|           seller_id|   product_category|seller_city|seller_state| order_purchased_at|  order_approved_at|order_estimated_delivery_date|\n",
      "+------------------+-----+------------+-------------------+-------------+------------------+----------------+-----------------+-----------------+----------------+--------------------+--------------------+------------+--------------------+-------------+--------------+--------------------+--------------------+--------------------+-------------------+-----------+------------+-------------------+-------------------+-----------------------------+\n",
      "|2.9507349076232554|29.99|           4| 0.6931471805599453|         8.72|               4.0|           500.0|             19.0|              8.0|            13.0|e481f51cbdc54678b...|9ef432eb625129730...|   delivered|7c396fd4830fd0422...|    sao paulo|            SP|a54f0611adc9ed256...|87285b34884572647...|3504c0cb71d7fa48d...|household_utilities|       maua|          SP|2017-10-02 10:56:33|2017-10-02 11:07:15|                   2017-10-18|\n",
      "|2.9750192319564492|29.99|           4| 0.6931471805599453|         8.72|               4.0|           500.0|             19.0|              8.0|            13.0|e481f51cbdc54678b...|9ef432eb625129730...|   delivered|7c396fd4830fd0422...|    sao paulo|            SP|a54f0611adc9ed256...|87285b34884572647...|3504c0cb71d7fa48d...|household_utilities|       maua|          SP|2017-10-02 10:56:33|2017-10-02 11:07:15|                   2017-10-18|\n",
      "| 4.959061258550208|118.7|           4| 0.6931471805599453|        22.76|               1.0|           400.0|             19.0|             13.0|            19.0|e481f51cbdc54678b...|9ef432eb625129730...|   delivered|7c396fd4830fd0422...|    sao paulo|            SP|a54f0611adc9ed256...|87285b34884572647...|3504c0cb71d7fa48d...|household_utilities|       maua|          SP|2017-10-02 10:56:33|2017-10-02 11:07:15|                   2017-10-18|\n",
      "+------------------+-----+------------+-------------------+-------------+------------------+----------------+-----------------+-----------------+----------------+--------------------+--------------------+------------+--------------------+-------------+--------------+--------------------+--------------------+--------------------+-------------------+-----------+------------+-------------------+-------------------+-----------------------------+\n",
      "only showing top 3 rows\n",
      "\n"
     ]
    }
   ],
   "source": [
    "input_data=spark.read.csv('df_final.csv',inferSchema=True,header=True)\n",
    "input_data.show(3)"
   ]
  },
  {
   "cell_type": "code",
   "execution_count": 32,
   "id": "3bc3d410-8852-4cba-ac22-0df2cc869292",
   "metadata": {},
   "outputs": [],
   "source": [
    "input_data=spark.read.option('header', True).csv('df_final.csv')"
   ]
  },
  {
   "cell_type": "code",
   "execution_count": 34,
   "id": "a12619ac-f127-46d2-8f9c-052c9db9d9ec",
   "metadata": {},
   "outputs": [
    {
     "data": {
      "text/plain": [
       "113475"
      ]
     },
     "execution_count": 34,
     "metadata": {},
     "output_type": "execute_result"
    }
   ],
   "source": [
    "input_data.filter(input_data['customer_unique_id'].isNotNull()).count()"
   ]
  },
  {
   "cell_type": "code",
   "execution_count": 35,
   "id": "527bbb7b-cdb7-474d-bbac-6cbbd9f958d9",
   "metadata": {},
   "outputs": [
    {
     "name": "stdout",
     "output_type": "stream",
     "text": [
      "root\n",
      " |-- total_value: string (nullable = true)\n",
      " |-- price: string (nullable = true)\n",
      " |-- review_score: string (nullable = true)\n",
      " |-- order_item_quantity: string (nullable = true)\n",
      " |-- freight_value: string (nullable = true)\n",
      " |-- product_photos_qty: string (nullable = true)\n",
      " |-- product_weight_g: string (nullable = true)\n",
      " |-- product_length_cm: string (nullable = true)\n",
      " |-- product_height_cm: string (nullable = true)\n",
      " |-- product_width_cm: string (nullable = true)\n",
      " |-- order_id: string (nullable = true)\n",
      " |-- customer_id: string (nullable = true)\n",
      " |-- order_status: string (nullable = true)\n",
      " |-- customer_unique_id: string (nullable = true)\n",
      " |-- customer_city: string (nullable = true)\n",
      " |-- customer_state: string (nullable = true)\n",
      " |-- review_id: string (nullable = true)\n",
      " |-- product_id: string (nullable = true)\n",
      " |-- seller_id: string (nullable = true)\n",
      " |-- product_category: string (nullable = true)\n",
      " |-- seller_city: string (nullable = true)\n",
      " |-- seller_state: string (nullable = true)\n",
      " |-- order_purchased_at: string (nullable = true)\n",
      " |-- order_approved_at: string (nullable = true)\n",
      " |-- order_estimated_delivery_date: string (nullable = true)\n",
      "\n"
     ]
    }
   ],
   "source": [
    "input_data.printSchema()"
   ]
  },
  {
   "cell_type": "code",
   "execution_count": 38,
   "id": "bfecebdd-5f02-4df9-b386-4f4fdb8e9dfe",
   "metadata": {},
   "outputs": [
    {
     "name": "stderr",
     "output_type": "stream",
     "text": [
      "                                                                                \r"
     ]
    },
    {
     "data": {
      "text/plain": [
       "32265"
      ]
     },
     "execution_count": 38,
     "metadata": {},
     "output_type": "execute_result"
    }
   ],
   "source": [
    "input_data.groupby('product_id').agg(f.collect_set('product_category'))\\\n",
    "                        .filter(size(col('collect_set(product_category)')) == 1).count()"
   ]
  },
  {
   "cell_type": "code",
   "execution_count": 39,
   "id": "37d19569-e7c3-46f8-98e7-f4696a82eb85",
   "metadata": {},
   "outputs": [
    {
     "name": "stdout",
     "output_type": "stream",
     "text": [
      "+--------------------------------+\n",
      "|count(DISTINCT product_category)|\n",
      "+--------------------------------+\n",
      "|                              73|\n",
      "+--------------------------------+\n",
      "\n"
     ]
    }
   ],
   "source": [
    "input_data.select(f.countDistinct(\"product_category\")).show()"
   ]
  },
  {
   "cell_type": "code",
   "execution_count": 40,
   "id": "a9569b56-db1a-451c-8dc3-166bdde8720f",
   "metadata": {},
   "outputs": [
    {
     "name": "stdout",
     "output_type": "stream",
     "text": [
      "+----------------------------------+\n",
      "|count(DISTINCT customer_unique_id)|\n",
      "+----------------------------------+\n",
      "|                             92268|\n",
      "+----------------------------------+\n",
      "\n"
     ]
    }
   ],
   "source": [
    "input_data.select(f.countDistinct(\"customer_unique_id\")).show()"
   ]
  },
  {
   "cell_type": "code",
   "execution_count": 43,
   "id": "0ec77886-6496-444b-9bd4-8ec296c11fa0",
   "metadata": {},
   "outputs": [
    {
     "name": "stdout",
     "output_type": "stream",
     "text": [
      "+------------------------+\n",
      "|count(DISTINCT order_id)|\n",
      "+------------------------+\n",
      "|                   95295|\n",
      "+------------------------+\n",
      "\n"
     ]
    }
   ],
   "source": [
    "input_data.select(f.countDistinct(\"order_id\")).show()"
   ]
  },
  {
   "cell_type": "code",
   "execution_count": 45,
   "id": "7ddb1fc8-c9bc-453c-bc15-07ef3b7a7b1e",
   "metadata": {},
   "outputs": [
    {
     "name": "stdout",
     "output_type": "stream",
     "text": [
      "+--------------------------+\n",
      "|count(DISTINCT product_id)|\n",
      "+--------------------------+\n",
      "|                     32265|\n",
      "+--------------------------+\n",
      "\n"
     ]
    }
   ],
   "source": [
    "input_data.select(f.countDistinct(\"product_id\")).show()"
   ]
  },
  {
   "cell_type": "markdown",
   "id": "2119805d-1c80-4fcb-8dbf-75e9d4db0e43",
   "metadata": {},
   "source": [
    "## Data Preprocessing "
   ]
  },
  {
   "cell_type": "markdown",
   "id": "d7dc9fc4-1916-4816-a5c0-e94faffa0a83",
   "metadata": {},
   "source": [
    "## Feature Engineering"
   ]
  },
  {
   "cell_type": "code",
   "execution_count": 49,
   "id": "5f72a176-7826-4f51-a676-847a81774808",
   "metadata": {},
   "outputs": [],
   "source": [
    "def preprocess(df):\n",
    "    \n",
    "    # Change data types\n",
    "    df = df.withColumn('order_purchased_at', to_timestamp('order_purchased_at'))\n",
    "    df = df.withColumn('customer_unique_id', col('customer_unique_id').cast('integer'))\n",
    "    df = df.withColumn('product_id', col('product_id').cast('integer'))\n",
    "    df = df.withColumn('order_id', col('order_id').cast('integer'))\n",
    "    return df"
   ]
  },
  {
   "cell_type": "code",
   "execution_count": 52,
   "id": "0fcd3490-ec3f-403d-a498-eb63a1b81e04",
   "metadata": {},
   "outputs": [],
   "source": [
    "def product_features(df):\n",
    "\n",
    "    # Calculate several metrics for products with the aggregate function\n",
    "    df = df.groupby('product_id').agg(\n",
    "                                      first('product_category').alias('product_category'),\n",
    "                                      countDistinct('order_id').alias('number_of_orders'),\n",
    "                                      mean('price').alias('price'),\n",
    "                                      min('order_purchased_at').alias('first_date'),\n",
    "                                      max('order_purchased_at').alias('last_date'))\n",
    "    \n",
    "    return df"
   ]
  },
  {
   "cell_type": "code",
   "execution_count": 54,
   "id": "44d00c36-bbd6-4d7e-98ec-0f01f7b9c464",
   "metadata": {},
   "outputs": [],
   "source": [
    "def category_features(df):\n",
    "    \n",
    "    # Calculate the average product price for each category\n",
    "    products = df.dropDuplicates(subset=['product_id'])\n",
    "    products = products.groupby('product_category').agg(avg('price').alias('average_price'))\n",
    "\n",
    "    # Calculate several metrics for categories with the aggregate function\n",
    "    df = df.groupby('product_category').agg(countDistinct('product_id').alias('number_of_products'),\n",
    "                                       countDistinct('order_id').alias('number_of_orders'))\n",
    "                                       \n",
    "  \n",
    "    df = df.join(products, on='product_category')\n",
    "    \n",
    "    return df"
   ]
  },
  {
   "cell_type": "code",
   "execution_count": 56,
   "id": "69102026-77f8-4890-8ca7-06f53e8fe1b6",
   "metadata": {},
   "outputs": [],
   "source": [
    "def user_features(df):\n",
    "\n",
    "    # Calculate several metrics for users with the aggregate function\n",
    "    df = df.groupby('customer_unique_id').agg(\n",
    "                                   countDistinct('product_id').alias('distinct_products_purchased'),\n",
    "                                    countDistinct('order_id').alias('number_of_orders'),\n",
    "                                   \n",
    "                                   mean('price').alias('average_price_purchased'),\n",
    "                                   mean('relative_price').alias('avg_relative_price_purchased'),\n",
    "                                   min('order_purchased_at').alias('first_date'),\n",
    "                                   max('order_purchased_at').alias('last_date'))\n",
    "    \n",
    "\n",
    "    return df"
   ]
  },
  {
   "cell_type": "code",
   "execution_count": 58,
   "id": "71acea71-fc34-4a9d-be57-dc7e6d5500f0",
   "metadata": {},
   "outputs": [],
   "source": [
    "def calculate_relative_price(products):\n",
    "    \n",
    "    categories = products.groupby('product_category').agg(percentile_approx('price', 0.25, 1000).alias('Q1'),\n",
    "                                                     percentile_approx('price', 0.5, 1000).alias('median'),\n",
    "                                                     percentile_approx('price', 0.75, 1000).alias('Q3'))\n",
    "    # Interquartile range\n",
    "    categories = categories.withColumn('IQR', col('Q3') - col('Q1'))\n",
    "    categories = categories.withColumn('IQR', when(col('IQR') < 1, 1).otherwise(col('IQR')))\n",
    "    \n",
    "    # Calculate relative price\n",
    "    products = products.join(categories, on='product_category')\n",
    "    products = products.withColumn('relative_price', (col('price') - col('median')) / col('IQR'))\n",
    "    \n",
    "    # In order to avoid extreme values, set the max possible value to 5\n",
    "    products = products.withColumn('relative_price', when(col('relative_price') > 5, 5).otherwise(col('relative_price')))\n",
    "\n",
    "    # Set the min possible value to -5\n",
    "    products = products.withColumn('relative_price', when(col('relative_price') < -5, -5).otherwise(col('relative_price')))\n",
    "\n",
    "    products = products.select('product_id', 'relative_price')\n",
    "    return products"
   ]
  },
  {
   "cell_type": "code",
   "execution_count": 60,
   "id": "e935dbb7-71f5-4c10-b353-bff5cd74d94b",
   "metadata": {},
   "outputs": [],
   "source": [
    "df_freq = input_data.groupBy('customer_unique_id').agg(countDistinct('order_id').alias('frequency'))"
   ]
  },
  {
   "cell_type": "code",
   "execution_count": 62,
   "id": "5ab97a08-87d3-4ff5-8337-14ecc6cb8bad",
   "metadata": {},
   "outputs": [
    {
     "name": "stdout",
     "output_type": "stream",
     "text": [
      "+--------------------+---------+\n",
      "|  customer_unique_id|frequency|\n",
      "+--------------------+---------+\n",
      "|8033f408bcb751340...|        1|\n",
      "|384ffc528dd30fd49...|        1|\n",
      "|14a188558af6cd5bc...|        2|\n",
      "|70154c8e9a3800762...|        1|\n",
      "|508723a71df892b74...|        1|\n",
      "|968436577c1e2073b...|        1|\n",
      "|c2495d0891221237c...|        1|\n",
      "|e533c359f12f90838...|        1|\n",
      "|0e1a29e5ec2a8b40b...|        1|\n",
      "|71430416a809573ed...|        1|\n",
      "|958da6ff0122fa69b...|        1|\n",
      "|d84d21b7b4970bdb5...|        1|\n",
      "|b138f736fd2e7162c...|        1|\n",
      "|4011b7579e894fa92...|        2|\n",
      "|505953fd10284b83b...|        1|\n",
      "|63590d97e0d4877dc...|        1|\n",
      "|4a055e75b893bfa3d...|        1|\n",
      "|c8d8b3853ff0a31da...|        1|\n",
      "|a6408b4025cdea6e8...|        1|\n",
      "|10a019fa89b5f15af...|        1|\n",
      "+--------------------+---------+\n",
      "only showing top 20 rows\n",
      "\n"
     ]
    }
   ],
   "source": [
    "df_freq.show()"
   ]
  },
  {
   "cell_type": "code",
   "execution_count": 63,
   "id": "c3c5372b-c007-4785-bae6-2183bf1e16f5",
   "metadata": {},
   "outputs": [],
   "source": [
    "#df=preprocess(input_data)"
   ]
  },
  {
   "cell_type": "code",
   "execution_count": 64,
   "id": "5281913d-5383-4307-be78-623ea7f26490",
   "metadata": {},
   "outputs": [],
   "source": [
    "input_data = input_data.withColumn('order_purchased_at', to_timestamp('order_purchased_at'))"
   ]
  },
  {
   "cell_type": "code",
   "execution_count": 65,
   "id": "97a410b7-629b-447b-b557-dbf526ad9868",
   "metadata": {},
   "outputs": [],
   "source": [
    "products=product_features(input_data)\n",
    "categories=category_features(input_data)"
   ]
  },
  {
   "cell_type": "code",
   "execution_count": 66,
   "id": "a7b0835d-972e-4bed-b4ff-45d8e537bf98",
   "metadata": {},
   "outputs": [
    {
     "name": "stderr",
     "output_type": "stream",
     "text": [
      "[Stage 45:>                                                         (0 + 8) / 8]\r"
     ]
    },
    {
     "name": "stdout",
     "output_type": "stream",
     "text": [
      "+--------------------+--------------------+----------------+------------------+-------------------+-------------------+\n",
      "|          product_id|    product_category|number_of_orders|             price|         first_date|          last_date|\n",
      "+--------------------+--------------------+----------------+------------------+-------------------+-------------------+\n",
      "|00066f42aeeb9f300...|           perfumery|               1|             105.9|2018-05-20 18:45:21|2018-05-20 18:45:21|\n",
      "|0011c512eb256aa0d...|          automobile|               1|             18.99|2017-12-14 20:30:29|2017-12-14 20:30:29|\n",
      "|00126f27c81360368...|          cool_stuff|               2|              77.0|2017-09-17 20:35:28|2017-09-17 20:45:13|\n",
      "|001795ec6f1b187d3...|      consoles_games|               7|134.58666666666667|2017-10-28 18:16:38|2017-12-27 00:22:18|\n",
      "|001b237c0e9bb435f...|      bed_bath_table|               1|             367.9|2018-08-09 01:24:57|2018-08-09 01:24:57|\n",
      "|001c5d71ac6ad696d...|      bed_bath_table|               1|             199.0|2017-01-25 05:31:30|2017-01-25 05:31:30|\n",
      "|002159fe700ed3521...|       fashion_shoes|               7| 96.64285714285714|2017-04-15 11:10:07|2018-08-07 21:54:37|\n",
      "|00250175f79f584c1...| household_utilities|               7|205.43454545454549|2017-03-04 19:42:06|2018-08-10 19:53:00|\n",
      "|002d4ea7c04739c13...|            pet_shop|               1|              9.99|2018-04-24 14:53:22|2018-04-24 14:53:22|\n",
      "|004636c889c7c3dad...| household_utilities|               3|           54.5725|2018-04-23 21:26:29|2018-08-16 17:43:21|\n",
      "|005c6b24cc96dca3e...|fashion_male_clot...|               1|              39.0|2018-01-27 18:19:58|2018-01-27 18:19:58|\n",
      "|006c67546bfe73c33...|          automobile|               1|            193.99|2018-05-19 14:46:42|2018-05-19 14:46:42|\n",
      "|0081787b18cce4acc...|construction_tool...|               1|             139.0|2018-03-05 11:08:22|2018-03-05 11:08:22|\n",
      "|008b51e6be49ee039...|       watches_gifts|               1|             103.9|2018-06-16 16:19:48|2018-06-16 16:19:48|\n",
      "|00917855135d67fb0...|computers_accesso...|               2|            73.995|2018-04-12 17:20:25|2018-04-27 21:25:00|\n",
      "|00ae7076313576f94...|       sport_leisure|               3|34.833333333333336|2017-11-24 10:52:36|2018-04-25 01:03:27|\n",
      "|00ba6d766f0b1d7b7...| household_utilities|              11|        118.259375|2017-05-23 15:08:40|2018-02-16 15:19:06|\n",
      "|00be617b58175bf20...|      bed_bath_table|               4|              75.7|2017-01-15 15:52:04|2018-07-17 10:33:14|\n",
      "|00c744ca2f3b0e76c...|                toys|               1|             30.97|2017-03-22 10:35:21|2017-03-22 10:35:21|\n",
      "|00d51a45854ebce28...| household_utilities|               1|             56.99|2018-05-09 12:36:31|2018-05-09 12:36:31|\n",
      "+--------------------+--------------------+----------------+------------------+-------------------+-------------------+\n",
      "only showing top 20 rows\n",
      "\n"
     ]
    },
    {
     "name": "stderr",
     "output_type": "stream",
     "text": [
      "                                                                                \r"
     ]
    }
   ],
   "source": [
    "products.show()"
   ]
  },
  {
   "cell_type": "code",
   "execution_count": 71,
   "id": "0541fbb5-9c13-4232-814d-bff7658b0abd",
   "metadata": {},
   "outputs": [
    {
     "name": "stderr",
     "output_type": "stream",
     "text": [
      "[Stage 52:>                                                         (0 + 7) / 7]\r"
     ]
    },
    {
     "name": "stdout",
     "output_type": "stream",
     "text": [
      "+--------------------+------------------+----------------+------------------+\n",
      "|    product_category|number_of_products|number_of_orders|     average_price|\n",
      "+--------------------+------------------+----------------+------------------+\n",
      "|fashion_bag_acces...|               837|            1812|102.71479091995245|\n",
      "|                 art|                54|             197| 98.18000000000002|\n",
      "|           beverages|                79|             290| 80.68000000000002|\n",
      "|             flowers|                14|              28| 91.12714285714286|\n",
      "|   home_construction|               221|             472|101.56040723981891|\n",
      "|            pc_gamer|                 3|               8| 43.23333333333333|\n",
      "|fashion_male_clot...|                91|             109| 98.46153846153847|\n",
      "|kitchen_dining_la...|                91|             238|122.22582417582413|\n",
      "|          la_cuisine|                 8|              10|         116.40875|\n",
      "|      bed_bath_table|              2948|            9060|111.36558005427378|\n",
      "|signaling_and_sec...|                92|             137|111.10771739130435|\n",
      "|    office_furniture|               303|            1227|100.48382838283815|\n",
      "|           computers|                28|             168|103.51250000000002|\n",
      "|       watches_gifts|              1301|            5405|106.00597232897799|\n",
      "|construction_tool...|                76|             234|140.63947368421051|\n",
      "|          cool_stuff|               776|            3501|112.62573453608275|\n",
      "|electrical_applia...|               225|             609|130.20782222222215|\n",
      "|                food|                81|             429|106.74012345679013|\n",
      "|computers_accesso...|              1609|            6478|112.76502796768197|\n",
      "|           perfumery|               857|            3066|111.61658109684979|\n",
      "+--------------------+------------------+----------------+------------------+\n",
      "only showing top 20 rows\n",
      "\n"
     ]
    },
    {
     "name": "stderr",
     "output_type": "stream",
     "text": [
      "                                                                                \r"
     ]
    }
   ],
   "source": [
    "categories.show()"
   ]
  },
  {
   "cell_type": "code",
   "execution_count": 72,
   "id": "dd100611-5fd5-4f17-b153-9bd3d63d6bcd",
   "metadata": {},
   "outputs": [
    {
     "name": "stderr",
     "output_type": "stream",
     "text": [
      "                                                                                \r"
     ]
    },
    {
     "name": "stdout",
     "output_type": "stream",
     "text": [
      "+--------------------+--------------------+\n",
      "|          product_id|      relative_price|\n",
      "+--------------------+--------------------+\n",
      "|fff9553ac224cec9d...| -0.7105955617928253|\n",
      "|ffd4bf4306745865e...|-0.28222670525977245|\n",
      "|ff9032482857269e8...|-0.09652662047188834|\n",
      "|ff8bd09f659b88af0...|-0.06591527059029917|\n",
      "|fde4e97b75bd817d8...|  1.2491667397596702|\n",
      "|fdd4f5e099d232bbd...| -0.5000877116042453|\n",
      "|fc5feda8d6c915bdb...| -0.7895360056135428|\n",
      "|fc4d6bb8b2fba6297...| -0.5933690027190598|\n",
      "|fc4179aaee80873ac...| -0.3302341899833348|\n",
      "|fb614bd62b359254b...| -0.3960178931672661|\n",
      "|fa812218786a729a8...|-0.01690641171827...|\n",
      "|f9a4667b264a6823e...|-0.01315674063678...|\n",
      "|f727305c90ca9b9c3...|-1.31567406367929...|\n",
      "|f610782a58cacbcdd...|  0.6248793965441629|\n",
      "|f60836d2827709716...|-0.13204982019121125|\n",
      "|f4c9a2926d5a2fe09...|  0.5504451363915447|\n",
      "|f4a9b2ee7355882bd...| -0.2960266643276906|\n",
      "|f2ee381460f893efb...|  0.9209718445750373|\n",
      "|f1f2a5b4dd03a85b6...| 0.18406280150863955|\n",
      "|f1cf1f7cd5a15a080...|-0.06723094465397772|\n",
      "+--------------------+--------------------+\n",
      "only showing top 20 rows\n",
      "\n"
     ]
    },
    {
     "name": "stderr",
     "output_type": "stream",
     "text": [
      "                                                                                \r"
     ]
    },
    {
     "name": "stdout",
     "output_type": "stream",
     "text": [
      "+--------------------+--------------------+----------------+-----------------+-------------------+-------------------+--------------------+\n",
      "|          product_id|    product_category|number_of_orders|            price|         first_date|          last_date|      relative_price|\n",
      "+--------------------+--------------------+----------------+-----------------+-------------------+-------------------+--------------------+\n",
      "|fff9553ac224cec9d...|fashion_bag_acces...|               1|            25.99|2017-10-06 16:44:05|2017-10-06 16:44:05| -0.7105955617928253|\n",
      "|ffd4bf4306745865e...|fashion_bag_acces...|               8| 58.5488888888889|2017-04-26 12:11:30|2018-08-18 21:12:42|-0.28222670525977245|\n",
      "|ff9032482857269e8...|fashion_bag_acces...|               3|72.66333333333334|2017-09-03 14:50:19|2018-01-07 21:07:17|-0.09652662047188834|\n",
      "|ff8bd09f659b88af0...|fashion_bag_acces...|               1|            74.99|2017-09-15 22:01:18|2017-09-15 22:01:18|-0.06591527059029917|\n",
      "|fde4e97b75bd817d8...|fashion_bag_acces...|               2|          174.945|2017-03-05 12:05:39|2017-05-12 20:44:21|  1.2491667397596702|\n",
      "|fdd4f5e099d232bbd...|fashion_bag_acces...|               1|            41.99|2017-12-09 10:47:07|2017-12-09 10:47:07| -0.5000877116042453|\n",
      "|fc5feda8d6c915bdb...|fashion_bag_acces...|               1|            19.99|2017-12-03 23:50:26|2017-12-03 23:50:26| -0.7895360056135428|\n",
      "|fc4d6bb8b2fba6297...|fashion_bag_acces...|               1|             34.9|2018-08-02 12:29:52|2018-08-02 12:29:52| -0.5933690027190598|\n",
      "|fc4179aaee80873ac...|fashion_bag_acces...|               1|             54.9|2017-04-25 18:03:03|2017-04-25 18:03:03| -0.3302341899833348|\n",
      "|fb614bd62b359254b...|fashion_bag_acces...|               1|             49.9|2018-05-09 13:54:21|2018-05-09 13:54:21| -0.3960178931672661|\n",
      "|fa812218786a729a8...|fashion_bag_acces...|               3|           78.715|2017-03-05 07:26:20|2017-11-25 22:12:25|-0.01690641171827...|\n",
      "|f9a4667b264a6823e...|fashion_bag_acces...|               1|             79.0|2017-09-15 23:02:56|2017-09-15 23:02:56|-0.01315674063678...|\n",
      "|f727305c90ca9b9c3...|fashion_bag_acces...|               1|            79.99|2017-01-29 14:46:06|2017-01-29 14:46:06|-1.31567406367929...|\n",
      "|f610782a58cacbcdd...|fashion_bag_acces...|               2|          127.495|2017-12-13 20:13:11|2018-03-30 05:20:13|  0.6248793965441629|\n",
      "|f60836d2827709716...|fashion_bag_acces...|               2|69.96333333333334|2017-05-21 20:01:24|2017-11-01 02:38:05|-0.13204982019121125|\n",
      "|f4c9a2926d5a2fe09...|fashion_bag_acces...|               3|         121.8375|2017-11-05 21:55:51|2018-01-11 20:04:57|  0.5504451363915447|\n",
      "|f4a9b2ee7355882bd...|fashion_bag_acces...|               2|             57.5|2017-12-29 14:58:22|2018-03-04 22:43:52| -0.2960266643276906|\n",
      "|f2ee381460f893efb...|fashion_bag_acces...|               1|            150.0|2017-08-21 19:05:01|2017-08-21 19:05:01|  0.9209718445750373|\n",
      "|f1f2a5b4dd03a85b6...|fashion_bag_acces...|               1|            93.99|2018-07-07 20:49:04|2018-07-07 20:49:04| 0.18406280150863955|\n",
      "|f1cf1f7cd5a15a080...|fashion_bag_acces...|               1|            74.89|2017-03-30 11:59:33|2017-03-30 11:59:33|-0.06723094465397772|\n",
      "+--------------------+--------------------+----------------+-----------------+-------------------+-------------------+--------------------+\n",
      "only showing top 20 rows\n",
      "\n"
     ]
    }
   ],
   "source": [
    "relative_prices = calculate_relative_price(products)\n",
    "relative_prices.show()\n",
    "df = input_data.join(relative_prices, on='product_id')\n",
    "products = products.join(relative_prices, on='product_id')\n",
    "products.show()"
   ]
  },
  {
   "cell_type": "code",
   "execution_count": 73,
   "id": "e421b215-febf-478e-8460-6f9fcece4596",
   "metadata": {},
   "outputs": [
    {
     "name": "stderr",
     "output_type": "stream",
     "text": [
      "                                                                                \r"
     ]
    },
    {
     "data": {
      "text/html": [
       "<div>\n",
       "<style scoped>\n",
       "    .dataframe tbody tr th:only-of-type {\n",
       "        vertical-align: middle;\n",
       "    }\n",
       "\n",
       "    .dataframe tbody tr th {\n",
       "        vertical-align: top;\n",
       "    }\n",
       "\n",
       "    .dataframe thead th {\n",
       "        text-align: right;\n",
       "    }\n",
       "</style>\n",
       "<table border=\"1\" class=\"dataframe\">\n",
       "  <thead>\n",
       "    <tr style=\"text-align: right;\">\n",
       "      <th></th>\n",
       "      <th>product_id</th>\n",
       "      <th>product_category</th>\n",
       "      <th>number_of_orders</th>\n",
       "      <th>price</th>\n",
       "      <th>first_date</th>\n",
       "      <th>last_date</th>\n",
       "      <th>relative_price</th>\n",
       "    </tr>\n",
       "  </thead>\n",
       "  <tbody>\n",
       "    <tr>\n",
       "      <th>0</th>\n",
       "      <td>99a4788cb24856965c36a24e339b6058</td>\n",
       "      <td>bed_bath_table</td>\n",
       "      <td>448</td>\n",
       "      <td>114.423036</td>\n",
       "      <td>2017-02-28 11:11:32</td>\n",
       "      <td>2018-08-19 18:03:14</td>\n",
       "      <td>0.357126</td>\n",
       "    </tr>\n",
       "    <tr>\n",
       "      <th>1</th>\n",
       "      <td>aca2eb7d00ea1a7b8ebd4e68314663af</td>\n",
       "      <td>furniture_decor</td>\n",
       "      <td>422</td>\n",
       "      <td>107.484122</td>\n",
       "      <td>2017-07-25 10:50:22</td>\n",
       "      <td>2018-08-18 16:37:58</td>\n",
       "      <td>0.286849</td>\n",
       "    </tr>\n",
       "    <tr>\n",
       "      <th>2</th>\n",
       "      <td>422879e10f46682990de24d770e7f83d</td>\n",
       "      <td>garden_tools</td>\n",
       "      <td>341</td>\n",
       "      <td>110.584440</td>\n",
       "      <td>2017-05-02 18:34:59</td>\n",
       "      <td>2018-08-14 09:18:25</td>\n",
       "      <td>0.214379</td>\n",
       "    </tr>\n",
       "    <tr>\n",
       "      <th>3</th>\n",
       "      <td>d1c427060a0f73f6b889a5c7c61f2ac4</td>\n",
       "      <td>computers_accessories</td>\n",
       "      <td>310</td>\n",
       "      <td>113.852639</td>\n",
       "      <td>2017-02-15 16:31:44</td>\n",
       "      <td>2018-08-22 18:27:48</td>\n",
       "      <td>0.340047</td>\n",
       "    </tr>\n",
       "    <tr>\n",
       "      <th>4</th>\n",
       "      <td>389d119b48cf3043d311335e499d9c6b</td>\n",
       "      <td>garden_tools</td>\n",
       "      <td>305</td>\n",
       "      <td>111.544875</td>\n",
       "      <td>2017-05-02 18:34:59</td>\n",
       "      <td>2018-08-16 23:08:45</td>\n",
       "      <td>0.225056</td>\n",
       "    </tr>\n",
       "    <tr>\n",
       "      <th>5</th>\n",
       "      <td>53b36df67ebb7c41585e8d54d6772e08</td>\n",
       "      <td>watches_gifts</td>\n",
       "      <td>292</td>\n",
       "      <td>113.673642</td>\n",
       "      <td>2017-06-11 13:04:43</td>\n",
       "      <td>2018-08-01 19:01:08</td>\n",
       "      <td>0.375722</td>\n",
       "    </tr>\n",
       "    <tr>\n",
       "      <th>6</th>\n",
       "      <td>53759a2ecddad2bb87a079a1f1519f73</td>\n",
       "      <td>garden_tools</td>\n",
       "      <td>282</td>\n",
       "      <td>107.533377</td>\n",
       "      <td>2017-04-07 13:27:27</td>\n",
       "      <td>2018-08-22 16:31:45</td>\n",
       "      <td>0.180461</td>\n",
       "    </tr>\n",
       "    <tr>\n",
       "      <th>7</th>\n",
       "      <td>368c6c730842d78016ad823897a372db</td>\n",
       "      <td>garden_tools</td>\n",
       "      <td>277</td>\n",
       "      <td>113.841474</td>\n",
       "      <td>2017-07-18 10:22:32</td>\n",
       "      <td>2018-08-25 20:10:27</td>\n",
       "      <td>0.250586</td>\n",
       "    </tr>\n",
       "    <tr>\n",
       "      <th>8</th>\n",
       "      <td>154e7e31ebfa092203795c972e5804a6</td>\n",
       "      <td>health_beauty</td>\n",
       "      <td>265</td>\n",
       "      <td>92.853034</td>\n",
       "      <td>2017-02-03 22:32:04</td>\n",
       "      <td>2018-08-13 13:08:25</td>\n",
       "      <td>0.109342</td>\n",
       "    </tr>\n",
       "    <tr>\n",
       "      <th>9</th>\n",
       "      <td>2b4609f8948be18874494203496bc318</td>\n",
       "      <td>health_beauty</td>\n",
       "      <td>253</td>\n",
       "      <td>107.182210</td>\n",
       "      <td>2017-03-09 23:55:22</td>\n",
       "      <td>2018-08-27 16:12:22</td>\n",
       "      <td>0.300653</td>\n",
       "    </tr>\n",
       "    <tr>\n",
       "      <th>10</th>\n",
       "      <td>3dd2a17168ec895c781a9191c1e95ad7</td>\n",
       "      <td>computers_accessories</td>\n",
       "      <td>250</td>\n",
       "      <td>102.058132</td>\n",
       "      <td>2018-01-10 19:34:34</td>\n",
       "      <td>2018-08-09 14:08:20</td>\n",
       "      <td>0.181870</td>\n",
       "    </tr>\n",
       "    <tr>\n",
       "      <th>11</th>\n",
       "      <td>7c1bd920dbdf22470b68bde975dd3ccf</td>\n",
       "      <td>health_beauty</td>\n",
       "      <td>218</td>\n",
       "      <td>111.118468</td>\n",
       "      <td>2017-01-31 17:15:33</td>\n",
       "      <td>2018-08-21 10:21:33</td>\n",
       "      <td>0.353206</td>\n",
       "    </tr>\n",
       "    <tr>\n",
       "      <th>12</th>\n",
       "      <td>e0d64dcfaa3b6db5c54ca298ae101d05</td>\n",
       "      <td>watches_gifts</td>\n",
       "      <td>189</td>\n",
       "      <td>110.576769</td>\n",
       "      <td>2017-03-07 16:02:54</td>\n",
       "      <td>2018-08-21 12:26:53</td>\n",
       "      <td>0.335906</td>\n",
       "    </tr>\n",
       "    <tr>\n",
       "      <th>13</th>\n",
       "      <td>5a848e4ab52fd5445cdc07aab1c40e48</td>\n",
       "      <td>Unknown</td>\n",
       "      <td>185</td>\n",
       "      <td>102.547394</td>\n",
       "      <td>2017-11-13 09:45:44</td>\n",
       "      <td>2018-08-20 09:45:10</td>\n",
       "      <td>0.242322</td>\n",
       "    </tr>\n",
       "    <tr>\n",
       "      <th>14</th>\n",
       "      <td>bb50f2e236e5eea0100680137654686c</td>\n",
       "      <td>health_beauty</td>\n",
       "      <td>182</td>\n",
       "      <td>129.840976</td>\n",
       "      <td>2017-08-18 14:51:39</td>\n",
       "      <td>2018-08-26 22:37:58</td>\n",
       "      <td>0.603173</td>\n",
       "    </tr>\n",
       "    <tr>\n",
       "      <th>15</th>\n",
       "      <td>a62e25e09e05e6faf31d90c6ec1aa3d1</td>\n",
       "      <td>watches_gifts</td>\n",
       "      <td>167</td>\n",
       "      <td>115.751614</td>\n",
       "      <td>2017-11-12 21:31:27</td>\n",
       "      <td>2018-08-15 21:41:45</td>\n",
       "      <td>0.402438</td>\n",
       "    </tr>\n",
       "    <tr>\n",
       "      <th>16</th>\n",
       "      <td>42a2c92a0979a949ca4ea89ec5c7b934</td>\n",
       "      <td>household_utilities</td>\n",
       "      <td>153</td>\n",
       "      <td>123.391477</td>\n",
       "      <td>2017-05-04 20:45:30</td>\n",
       "      <td>2018-04-24 13:21:26</td>\n",
       "      <td>0.468456</td>\n",
       "    </tr>\n",
       "    <tr>\n",
       "      <th>17</th>\n",
       "      <td>35afc973633aaeb6b877ff57b2793310</td>\n",
       "      <td>home_confort</td>\n",
       "      <td>152</td>\n",
       "      <td>103.255254</td>\n",
       "      <td>2017-02-28 14:19:37</td>\n",
       "      <td>2018-08-13 11:18:25</td>\n",
       "      <td>0.191630</td>\n",
       "    </tr>\n",
       "    <tr>\n",
       "      <th>18</th>\n",
       "      <td>a92930c327948861c015c919a0bcb4a8</td>\n",
       "      <td>watches_gifts</td>\n",
       "      <td>151</td>\n",
       "      <td>96.166051</td>\n",
       "      <td>2017-06-19 08:03:22</td>\n",
       "      <td>2018-08-24 23:28:21</td>\n",
       "      <td>0.150631</td>\n",
       "    </tr>\n",
       "    <tr>\n",
       "      <th>19</th>\n",
       "      <td>e53e557d5a159f5aa2c5e995dfdf244b</td>\n",
       "      <td>computers_accessories</td>\n",
       "      <td>151</td>\n",
       "      <td>111.966952</td>\n",
       "      <td>2017-11-30 22:21:04</td>\n",
       "      <td>2018-08-06 21:36:12</td>\n",
       "      <td>0.314758</td>\n",
       "    </tr>\n",
       "  </tbody>\n",
       "</table>\n",
       "</div>"
      ],
      "text/plain": [
       "                          product_id       product_category  number_of_orders  \\\n",
       "0   99a4788cb24856965c36a24e339b6058         bed_bath_table               448   \n",
       "1   aca2eb7d00ea1a7b8ebd4e68314663af        furniture_decor               422   \n",
       "2   422879e10f46682990de24d770e7f83d           garden_tools               341   \n",
       "3   d1c427060a0f73f6b889a5c7c61f2ac4  computers_accessories               310   \n",
       "4   389d119b48cf3043d311335e499d9c6b           garden_tools               305   \n",
       "5   53b36df67ebb7c41585e8d54d6772e08          watches_gifts               292   \n",
       "6   53759a2ecddad2bb87a079a1f1519f73           garden_tools               282   \n",
       "7   368c6c730842d78016ad823897a372db           garden_tools               277   \n",
       "8   154e7e31ebfa092203795c972e5804a6          health_beauty               265   \n",
       "9   2b4609f8948be18874494203496bc318          health_beauty               253   \n",
       "10  3dd2a17168ec895c781a9191c1e95ad7  computers_accessories               250   \n",
       "11  7c1bd920dbdf22470b68bde975dd3ccf          health_beauty               218   \n",
       "12  e0d64dcfaa3b6db5c54ca298ae101d05          watches_gifts               189   \n",
       "13  5a848e4ab52fd5445cdc07aab1c40e48                Unknown               185   \n",
       "14  bb50f2e236e5eea0100680137654686c          health_beauty               182   \n",
       "15  a62e25e09e05e6faf31d90c6ec1aa3d1          watches_gifts               167   \n",
       "16  42a2c92a0979a949ca4ea89ec5c7b934    household_utilities               153   \n",
       "17  35afc973633aaeb6b877ff57b2793310           home_confort               152   \n",
       "18  a92930c327948861c015c919a0bcb4a8          watches_gifts               151   \n",
       "19  e53e557d5a159f5aa2c5e995dfdf244b  computers_accessories               151   \n",
       "\n",
       "         price          first_date           last_date  relative_price  \n",
       "0   114.423036 2017-02-28 11:11:32 2018-08-19 18:03:14        0.357126  \n",
       "1   107.484122 2017-07-25 10:50:22 2018-08-18 16:37:58        0.286849  \n",
       "2   110.584440 2017-05-02 18:34:59 2018-08-14 09:18:25        0.214379  \n",
       "3   113.852639 2017-02-15 16:31:44 2018-08-22 18:27:48        0.340047  \n",
       "4   111.544875 2017-05-02 18:34:59 2018-08-16 23:08:45        0.225056  \n",
       "5   113.673642 2017-06-11 13:04:43 2018-08-01 19:01:08        0.375722  \n",
       "6   107.533377 2017-04-07 13:27:27 2018-08-22 16:31:45        0.180461  \n",
       "7   113.841474 2017-07-18 10:22:32 2018-08-25 20:10:27        0.250586  \n",
       "8    92.853034 2017-02-03 22:32:04 2018-08-13 13:08:25        0.109342  \n",
       "9   107.182210 2017-03-09 23:55:22 2018-08-27 16:12:22        0.300653  \n",
       "10  102.058132 2018-01-10 19:34:34 2018-08-09 14:08:20        0.181870  \n",
       "11  111.118468 2017-01-31 17:15:33 2018-08-21 10:21:33        0.353206  \n",
       "12  110.576769 2017-03-07 16:02:54 2018-08-21 12:26:53        0.335906  \n",
       "13  102.547394 2017-11-13 09:45:44 2018-08-20 09:45:10        0.242322  \n",
       "14  129.840976 2017-08-18 14:51:39 2018-08-26 22:37:58        0.603173  \n",
       "15  115.751614 2017-11-12 21:31:27 2018-08-15 21:41:45        0.402438  \n",
       "16  123.391477 2017-05-04 20:45:30 2018-04-24 13:21:26        0.468456  \n",
       "17  103.255254 2017-02-28 14:19:37 2018-08-13 11:18:25        0.191630  \n",
       "18   96.166051 2017-06-19 08:03:22 2018-08-24 23:28:21        0.150631  \n",
       "19  111.966952 2017-11-30 22:21:04 2018-08-06 21:36:12        0.314758  "
      ]
     },
     "execution_count": 73,
     "metadata": {},
     "output_type": "execute_result"
    }
   ],
   "source": [
    "\n",
    "products.sort('number_of_orders', ascending=False).toPandas().head(20)"
   ]
  },
  {
   "cell_type": "code",
   "execution_count": 74,
   "id": "a9892b64-c67f-4661-b506-f67aa308b495",
   "metadata": {},
   "outputs": [
    {
     "name": "stderr",
     "output_type": "stream",
     "text": [
      "[Stage 114:>                                                        (0 + 1) / 1]\r"
     ]
    },
    {
     "name": "stdout",
     "output_type": "stream",
     "text": [
      "+--------------------+---------------------------+----------------+-----------------------+----------------------------+-------------------+-------------------+\n",
      "|  customer_unique_id|distinct_products_purchased|number_of_orders|average_price_purchased|avg_relative_price_purchased|         first_date|          last_date|\n",
      "+--------------------+---------------------------+----------------+-----------------------+----------------------------+-------------------+-------------------+\n",
      "|5f439c10be261b762...|                          1|               1|                  45.99|         0.24232227784730936|2017-12-04 12:21:45|2017-12-04 12:21:45|\n",
      "|b6d4032296c0a345f...|                          1|               1|                   45.9|         -0.5616053694952402|2018-02-06 21:37:26|2018-02-06 21:37:26|\n",
      "|2d006f3f447dba013...|                          1|               1|                  151.9|          0.8102225784573648|2018-01-28 18:28:32|2018-01-28 18:28:32|\n",
      "|b68acf578f10bd6ec...|                          1|               1|                   49.9|          0.4577078616899827|2017-12-01 22:07:21|2017-12-01 22:07:21|\n",
      "|181291e3c2a672cf1...|                          1|               1|                   30.0|         -0.3694835680751174|2017-11-24 20:11:08|2017-11-24 20:11:08|\n",
      "|b7ffb665ff10cf09e...|                          1|               1|                  149.9|         0.15742350218565163|2018-07-23 17:40:13|2018-07-23 17:40:13|\n",
      "|a439177407290b4a5...|                          1|               1|                  107.9|         0.07268378819374602|2018-03-19 00:06:31|2018-03-19 00:06:31|\n",
      "|44c442d6502b297d6...|                          1|               1|                   29.9|         0.27209281284107684|2018-05-09 14:55:29|2018-05-09 14:55:29|\n",
      "|08dab8a579f9d8b18...|                          1|               1|                   99.0|          0.4401344014241208|2018-03-30 21:57:01|2018-03-30 21:57:01|\n",
      "|f7d6e0dd60c793a66...|                          3|               1|     106.09666666666665|        -0.02707876890975473|2017-11-15 20:36:07|2017-11-15 20:36:07|\n",
      "|216ab90e27f18940c...|                          2|               2|                 146.95|          0.6312056867223792|2018-02-23 11:53:38|2018-07-22 14:46:48|\n",
      "|ed078f238aade4aac...|                          1|               1|                  39.99|          0.5421052631578946|2018-03-18 18:28:19|2018-03-18 18:28:19|\n",
      "|ee5972781a5a53c05...|                          1|               1|                  29.99|         -0.1933949522161627|2018-06-26 11:33:24|2018-06-26 11:33:24|\n",
      "|1234ccd4e0b359525...|                          1|               1|                  109.0|         0.32611647395778065|2018-04-11 10:48:10|2018-04-11 10:48:10|\n",
      "|a6408b4025cdea6e8...|                          1|               1|                  157.0|        0.016065010157837074|2017-05-14 01:08:21|2017-05-14 01:08:21|\n",
      "|42717020a4c855061...|                          1|               1|                   49.0|          0.4847822621131324|2017-09-01 15:22:38|2017-09-01 15:22:38|\n",
      "|0e1a29e5ec2a8b40b...|                          1|               1|                   29.9|         0.06668759236735065|2017-02-20 22:26:30|2017-02-20 22:26:30|\n",
      "|9ccbb5f759db041b2...|                          1|               1|                 110.32|        -0.05673684210526316|2017-12-11 20:03:10|2017-12-11 20:03:10|\n",
      "|a0f1d4ed2825bb48f...|                          1|               1|                 152.15|          0.3635475517890773|2017-06-28 22:12:22|2017-06-28 22:12:22|\n",
      "|19fe66d478bfedfdc...|                          1|               1|                  299.9|          2.8351505397974917|2018-06-12 23:05:15|2018-06-12 23:05:15|\n",
      "+--------------------+---------------------------+----------------+-----------------------+----------------------------+-------------------+-------------------+\n",
      "only showing top 20 rows\n",
      "\n"
     ]
    },
    {
     "name": "stderr",
     "output_type": "stream",
     "text": [
      "                                                                                \r"
     ]
    }
   ],
   "source": [
    "users = user_features(df)\n",
    "users.show()"
   ]
  },
  {
   "cell_type": "markdown",
   "id": "aa1376b7-325c-4317-a42e-ebe8d63871d9",
   "metadata": {},
   "source": [
    "## Train Recommendation Model"
   ]
  },
  {
   "cell_type": "code",
   "execution_count": 180,
   "id": "efa2025f-4740-43c6-ad28-fbcd60020967",
   "metadata": {},
   "outputs": [],
   "source": [
    "input_df=pd.read_csv('df_final.csv')"
   ]
  },
  {
   "cell_type": "code",
   "execution_count": 182,
   "id": "87e4ecc5-00e6-46e7-8a30-adf7351ca151",
   "metadata": {},
   "outputs": [
    {
     "data": {
      "text/plain": [
       "Index(['total_value', 'price', 'review_score', 'order_item_quantity',\n",
       "       'freight_value', 'product_photos_qty', 'product_weight_g',\n",
       "       'product_length_cm', 'product_height_cm', 'product_width_cm',\n",
       "       'order_id', 'customer_id', 'order_status', 'customer_unique_id',\n",
       "       'customer_city', 'customer_state', 'review_id', 'product_id',\n",
       "       'seller_id', 'product_category', 'seller_city', 'seller_state',\n",
       "       'order_purchased_at', 'order_approved_at',\n",
       "       'order_estimated_delivery_date'],\n",
       "      dtype='object')"
      ]
     },
     "execution_count": 182,
     "metadata": {},
     "output_type": "execute_result"
    }
   ],
   "source": [
    "input_df.columns"
   ]
  },
  {
   "cell_type": "code",
   "execution_count": 184,
   "id": "6db4dff5-5bdc-4484-b032-75dec875c8eb",
   "metadata": {},
   "outputs": [],
   "source": [
    "# from sklearn.preprocessing import LabelEncoder\n",
    "\n",
    "# u_transf = LabelEncoder()\n",
    "# item_transf = LabelEncoder()\n",
    "# # encoding\n",
    "# input_data['customer_unique_id'] = u_transf.fit_transform(input_data['customer_unique_id'])\n",
    "# input_data['product_id'] = item_transf.fit_transform(input_data['product_id'])"
   ]
  },
  {
   "cell_type": "code",
   "execution_count": 186,
   "id": "116fe1b1-45af-4c96-ac33-c7200d264154",
   "metadata": {},
   "outputs": [],
   "source": [
    "def reduce_sparsity(df, min_items_per_user, min_user_per_item, user_col='customer_unique_id', item_col='product_id'):\n",
    "    good_users = df[user_col].value_counts()[df[user_col].value_counts() > min_items_per_user].index\n",
    "    df = df[df[user_col].isin(good_users)]\n",
    "\n",
    "    good_items = df[item_col].value_counts()[df[item_col].value_counts() > min_user_per_item].index\n",
    "    df = df[df[item_col].isin(good_items)].reset_index(drop=1)\n",
    "\n",
    "    return df"
   ]
  },
  {
   "cell_type": "code",
   "execution_count": 188,
   "id": "5903b4b7-d6dc-4b7f-af27-f1b1431c8e26",
   "metadata": {},
   "outputs": [
    {
     "data": {
      "text/plain": [
       "(8884, 25)"
      ]
     },
     "execution_count": 188,
     "metadata": {},
     "output_type": "execute_result"
    }
   ],
   "source": [
    "#%%\n",
    "df_final=reduce_sparsity(input_df, 1, 10)\n",
    "df_final.shape"
   ]
  },
  {
   "cell_type": "code",
   "execution_count": 190,
   "id": "c3ff0841-5057-4bf4-a3c9-7015b75c847f",
   "metadata": {},
   "outputs": [
    {
     "name": "stdout",
     "output_type": "stream",
     "text": [
      "The number of observations in the final data = 8884\n",
      "Number of unique USERS in the final data =  3805\n",
      "Number of unique PRODUCTS in the final data =  364\n"
     ]
    }
   ],
   "source": [
    "\n",
    "print('The number of observations in the final data =', len(df_final))\n",
    "print('Number of unique USERS in the final data = ', df_final['customer_unique_id'].nunique())\n",
    "print('Number of unique PRODUCTS in the final data = ', df_final['product_id'].nunique())"
   ]
  },
  {
   "cell_type": "code",
   "execution_count": 192,
   "id": "78c696e4-f346-4bd8-8e6e-d16f8d36a3a1",
   "metadata": {},
   "outputs": [
    {
     "name": "stdout",
     "output_type": "stream",
     "text": [
      "Shape of final_ratings_matrix:  (3805, 364)\n",
      "given_num_of_ratings =  4254\n",
      "possible_num_of_ratings =  1385020\n",
      "density: 0.31%\n"
     ]
    },
    {
     "data": {
      "text/html": [
       "<div>\n",
       "<style scoped>\n",
       "    .dataframe tbody tr th:only-of-type {\n",
       "        vertical-align: middle;\n",
       "    }\n",
       "\n",
       "    .dataframe tbody tr th {\n",
       "        vertical-align: top;\n",
       "    }\n",
       "\n",
       "    .dataframe thead th {\n",
       "        text-align: right;\n",
       "    }\n",
       "</style>\n",
       "<table border=\"1\" class=\"dataframe\">\n",
       "  <thead>\n",
       "    <tr style=\"text-align: right;\">\n",
       "      <th>product_id</th>\n",
       "      <th>00ba6d766f0b1d7b78a5ce3e1e033263</th>\n",
       "      <th>0152f69b6cf919bcdaf117aa8c43e5a2</th>\n",
       "      <th>017692475c1c954ff597feda05131d73</th>\n",
       "      <th>03e1c946c0ddfc58724ff262aef08dff</th>\n",
       "      <th>0449db5eede617c5fd413071d582f038</th>\n",
       "      <th>04c4a4b9c924494fcf82e0fba966f955</th>\n",
       "      <th>054515fd15bc1a2029f10de97ffa9120</th>\n",
       "      <th>0554911df28fda9fd668ce5ba5949695</th>\n",
       "      <th>060c17562f97e5bb60bc0dfa4dd5b3f2</th>\n",
       "      <th>060cb19345d90064d1015407193c233d</th>\n",
       "      <th>...</th>\n",
       "      <th>f819f0c84a64f02d3a5606ca95edd272</th>\n",
       "      <th>f8ea5fcf9c628485e01b9c3cf52728c2</th>\n",
       "      <th>f919da4f716dc149cef4551a322001fd</th>\n",
       "      <th>fa126ff62aae83e37857ad495641c878</th>\n",
       "      <th>fb55982be901439613a95940feefd9ee</th>\n",
       "      <th>fb783e3e545937820b57fe539b2c5a6c</th>\n",
       "      <th>fbc1488c1a1e72ba175f53ab29a248e8</th>\n",
       "      <th>fbce4c4cb307679d89a3bf3d3bb353b9</th>\n",
       "      <th>fc1d8637c0268af3db482c14b7ef8e75</th>\n",
       "      <th>fe6a9515d655fa7936b8a7c841039f34</th>\n",
       "    </tr>\n",
       "    <tr>\n",
       "      <th>customer_unique_id</th>\n",
       "      <th></th>\n",
       "      <th></th>\n",
       "      <th></th>\n",
       "      <th></th>\n",
       "      <th></th>\n",
       "      <th></th>\n",
       "      <th></th>\n",
       "      <th></th>\n",
       "      <th></th>\n",
       "      <th></th>\n",
       "      <th></th>\n",
       "      <th></th>\n",
       "      <th></th>\n",
       "      <th></th>\n",
       "      <th></th>\n",
       "      <th></th>\n",
       "      <th></th>\n",
       "      <th></th>\n",
       "      <th></th>\n",
       "      <th></th>\n",
       "      <th></th>\n",
       "    </tr>\n",
       "  </thead>\n",
       "  <tbody>\n",
       "    <tr>\n",
       "      <th>001147e649a7b1afd577e873841632dd</th>\n",
       "      <td>0.0</td>\n",
       "      <td>0.0</td>\n",
       "      <td>0.0</td>\n",
       "      <td>0.0</td>\n",
       "      <td>0.0</td>\n",
       "      <td>0.0</td>\n",
       "      <td>0.0</td>\n",
       "      <td>0.0</td>\n",
       "      <td>0.0</td>\n",
       "      <td>0.0</td>\n",
       "      <td>...</td>\n",
       "      <td>0.0</td>\n",
       "      <td>0.0</td>\n",
       "      <td>0.0</td>\n",
       "      <td>0.0</td>\n",
       "      <td>0.0</td>\n",
       "      <td>0.0</td>\n",
       "      <td>0.0</td>\n",
       "      <td>0.0</td>\n",
       "      <td>0.0</td>\n",
       "      <td>0.0</td>\n",
       "    </tr>\n",
       "    <tr>\n",
       "      <th>001926cef41060fae572e2e7b30bd2a4</th>\n",
       "      <td>0.0</td>\n",
       "      <td>0.0</td>\n",
       "      <td>0.0</td>\n",
       "      <td>0.0</td>\n",
       "      <td>0.0</td>\n",
       "      <td>0.0</td>\n",
       "      <td>0.0</td>\n",
       "      <td>0.0</td>\n",
       "      <td>0.0</td>\n",
       "      <td>0.0</td>\n",
       "      <td>...</td>\n",
       "      <td>0.0</td>\n",
       "      <td>0.0</td>\n",
       "      <td>0.0</td>\n",
       "      <td>0.0</td>\n",
       "      <td>0.0</td>\n",
       "      <td>0.0</td>\n",
       "      <td>0.0</td>\n",
       "      <td>0.0</td>\n",
       "      <td>0.0</td>\n",
       "      <td>0.0</td>\n",
       "    </tr>\n",
       "    <tr>\n",
       "      <th>002ae492472e45ad6ebeb7a625409392</th>\n",
       "      <td>0.0</td>\n",
       "      <td>0.0</td>\n",
       "      <td>0.0</td>\n",
       "      <td>0.0</td>\n",
       "      <td>0.0</td>\n",
       "      <td>0.0</td>\n",
       "      <td>0.0</td>\n",
       "      <td>0.0</td>\n",
       "      <td>0.0</td>\n",
       "      <td>0.0</td>\n",
       "      <td>...</td>\n",
       "      <td>0.0</td>\n",
       "      <td>0.0</td>\n",
       "      <td>0.0</td>\n",
       "      <td>0.0</td>\n",
       "      <td>0.0</td>\n",
       "      <td>0.0</td>\n",
       "      <td>0.0</td>\n",
       "      <td>0.0</td>\n",
       "      <td>0.0</td>\n",
       "      <td>0.0</td>\n",
       "    </tr>\n",
       "    <tr>\n",
       "      <th>003e2af81ea3c72fbdd093f07724a4de</th>\n",
       "      <td>0.0</td>\n",
       "      <td>0.0</td>\n",
       "      <td>0.0</td>\n",
       "      <td>0.0</td>\n",
       "      <td>0.0</td>\n",
       "      <td>0.0</td>\n",
       "      <td>0.0</td>\n",
       "      <td>0.0</td>\n",
       "      <td>0.0</td>\n",
       "      <td>0.0</td>\n",
       "      <td>...</td>\n",
       "      <td>0.0</td>\n",
       "      <td>0.0</td>\n",
       "      <td>0.0</td>\n",
       "      <td>0.0</td>\n",
       "      <td>0.0</td>\n",
       "      <td>0.0</td>\n",
       "      <td>0.0</td>\n",
       "      <td>0.0</td>\n",
       "      <td>0.0</td>\n",
       "      <td>0.0</td>\n",
       "    </tr>\n",
       "    <tr>\n",
       "      <th>004177f7bf62929186b32c7fdaa6157b</th>\n",
       "      <td>0.0</td>\n",
       "      <td>0.0</td>\n",
       "      <td>0.0</td>\n",
       "      <td>0.0</td>\n",
       "      <td>0.0</td>\n",
       "      <td>0.0</td>\n",
       "      <td>0.0</td>\n",
       "      <td>0.0</td>\n",
       "      <td>0.0</td>\n",
       "      <td>0.0</td>\n",
       "      <td>...</td>\n",
       "      <td>0.0</td>\n",
       "      <td>0.0</td>\n",
       "      <td>0.0</td>\n",
       "      <td>0.0</td>\n",
       "      <td>0.0</td>\n",
       "      <td>0.0</td>\n",
       "      <td>0.0</td>\n",
       "      <td>0.0</td>\n",
       "      <td>0.0</td>\n",
       "      <td>0.0</td>\n",
       "    </tr>\n",
       "  </tbody>\n",
       "</table>\n",
       "<p>5 rows × 364 columns</p>\n",
       "</div>"
      ],
      "text/plain": [
       "product_id                        00ba6d766f0b1d7b78a5ce3e1e033263  \\\n",
       "customer_unique_id                                                   \n",
       "001147e649a7b1afd577e873841632dd                               0.0   \n",
       "001926cef41060fae572e2e7b30bd2a4                               0.0   \n",
       "002ae492472e45ad6ebeb7a625409392                               0.0   \n",
       "003e2af81ea3c72fbdd093f07724a4de                               0.0   \n",
       "004177f7bf62929186b32c7fdaa6157b                               0.0   \n",
       "\n",
       "product_id                        0152f69b6cf919bcdaf117aa8c43e5a2  \\\n",
       "customer_unique_id                                                   \n",
       "001147e649a7b1afd577e873841632dd                               0.0   \n",
       "001926cef41060fae572e2e7b30bd2a4                               0.0   \n",
       "002ae492472e45ad6ebeb7a625409392                               0.0   \n",
       "003e2af81ea3c72fbdd093f07724a4de                               0.0   \n",
       "004177f7bf62929186b32c7fdaa6157b                               0.0   \n",
       "\n",
       "product_id                        017692475c1c954ff597feda05131d73  \\\n",
       "customer_unique_id                                                   \n",
       "001147e649a7b1afd577e873841632dd                               0.0   \n",
       "001926cef41060fae572e2e7b30bd2a4                               0.0   \n",
       "002ae492472e45ad6ebeb7a625409392                               0.0   \n",
       "003e2af81ea3c72fbdd093f07724a4de                               0.0   \n",
       "004177f7bf62929186b32c7fdaa6157b                               0.0   \n",
       "\n",
       "product_id                        03e1c946c0ddfc58724ff262aef08dff  \\\n",
       "customer_unique_id                                                   \n",
       "001147e649a7b1afd577e873841632dd                               0.0   \n",
       "001926cef41060fae572e2e7b30bd2a4                               0.0   \n",
       "002ae492472e45ad6ebeb7a625409392                               0.0   \n",
       "003e2af81ea3c72fbdd093f07724a4de                               0.0   \n",
       "004177f7bf62929186b32c7fdaa6157b                               0.0   \n",
       "\n",
       "product_id                        0449db5eede617c5fd413071d582f038  \\\n",
       "customer_unique_id                                                   \n",
       "001147e649a7b1afd577e873841632dd                               0.0   \n",
       "001926cef41060fae572e2e7b30bd2a4                               0.0   \n",
       "002ae492472e45ad6ebeb7a625409392                               0.0   \n",
       "003e2af81ea3c72fbdd093f07724a4de                               0.0   \n",
       "004177f7bf62929186b32c7fdaa6157b                               0.0   \n",
       "\n",
       "product_id                        04c4a4b9c924494fcf82e0fba966f955  \\\n",
       "customer_unique_id                                                   \n",
       "001147e649a7b1afd577e873841632dd                               0.0   \n",
       "001926cef41060fae572e2e7b30bd2a4                               0.0   \n",
       "002ae492472e45ad6ebeb7a625409392                               0.0   \n",
       "003e2af81ea3c72fbdd093f07724a4de                               0.0   \n",
       "004177f7bf62929186b32c7fdaa6157b                               0.0   \n",
       "\n",
       "product_id                        054515fd15bc1a2029f10de97ffa9120  \\\n",
       "customer_unique_id                                                   \n",
       "001147e649a7b1afd577e873841632dd                               0.0   \n",
       "001926cef41060fae572e2e7b30bd2a4                               0.0   \n",
       "002ae492472e45ad6ebeb7a625409392                               0.0   \n",
       "003e2af81ea3c72fbdd093f07724a4de                               0.0   \n",
       "004177f7bf62929186b32c7fdaa6157b                               0.0   \n",
       "\n",
       "product_id                        0554911df28fda9fd668ce5ba5949695  \\\n",
       "customer_unique_id                                                   \n",
       "001147e649a7b1afd577e873841632dd                               0.0   \n",
       "001926cef41060fae572e2e7b30bd2a4                               0.0   \n",
       "002ae492472e45ad6ebeb7a625409392                               0.0   \n",
       "003e2af81ea3c72fbdd093f07724a4de                               0.0   \n",
       "004177f7bf62929186b32c7fdaa6157b                               0.0   \n",
       "\n",
       "product_id                        060c17562f97e5bb60bc0dfa4dd5b3f2  \\\n",
       "customer_unique_id                                                   \n",
       "001147e649a7b1afd577e873841632dd                               0.0   \n",
       "001926cef41060fae572e2e7b30bd2a4                               0.0   \n",
       "002ae492472e45ad6ebeb7a625409392                               0.0   \n",
       "003e2af81ea3c72fbdd093f07724a4de                               0.0   \n",
       "004177f7bf62929186b32c7fdaa6157b                               0.0   \n",
       "\n",
       "product_id                        060cb19345d90064d1015407193c233d  ...  \\\n",
       "customer_unique_id                                                  ...   \n",
       "001147e649a7b1afd577e873841632dd                               0.0  ...   \n",
       "001926cef41060fae572e2e7b30bd2a4                               0.0  ...   \n",
       "002ae492472e45ad6ebeb7a625409392                               0.0  ...   \n",
       "003e2af81ea3c72fbdd093f07724a4de                               0.0  ...   \n",
       "004177f7bf62929186b32c7fdaa6157b                               0.0  ...   \n",
       "\n",
       "product_id                        f819f0c84a64f02d3a5606ca95edd272  \\\n",
       "customer_unique_id                                                   \n",
       "001147e649a7b1afd577e873841632dd                               0.0   \n",
       "001926cef41060fae572e2e7b30bd2a4                               0.0   \n",
       "002ae492472e45ad6ebeb7a625409392                               0.0   \n",
       "003e2af81ea3c72fbdd093f07724a4de                               0.0   \n",
       "004177f7bf62929186b32c7fdaa6157b                               0.0   \n",
       "\n",
       "product_id                        f8ea5fcf9c628485e01b9c3cf52728c2  \\\n",
       "customer_unique_id                                                   \n",
       "001147e649a7b1afd577e873841632dd                               0.0   \n",
       "001926cef41060fae572e2e7b30bd2a4                               0.0   \n",
       "002ae492472e45ad6ebeb7a625409392                               0.0   \n",
       "003e2af81ea3c72fbdd093f07724a4de                               0.0   \n",
       "004177f7bf62929186b32c7fdaa6157b                               0.0   \n",
       "\n",
       "product_id                        f919da4f716dc149cef4551a322001fd  \\\n",
       "customer_unique_id                                                   \n",
       "001147e649a7b1afd577e873841632dd                               0.0   \n",
       "001926cef41060fae572e2e7b30bd2a4                               0.0   \n",
       "002ae492472e45ad6ebeb7a625409392                               0.0   \n",
       "003e2af81ea3c72fbdd093f07724a4de                               0.0   \n",
       "004177f7bf62929186b32c7fdaa6157b                               0.0   \n",
       "\n",
       "product_id                        fa126ff62aae83e37857ad495641c878  \\\n",
       "customer_unique_id                                                   \n",
       "001147e649a7b1afd577e873841632dd                               0.0   \n",
       "001926cef41060fae572e2e7b30bd2a4                               0.0   \n",
       "002ae492472e45ad6ebeb7a625409392                               0.0   \n",
       "003e2af81ea3c72fbdd093f07724a4de                               0.0   \n",
       "004177f7bf62929186b32c7fdaa6157b                               0.0   \n",
       "\n",
       "product_id                        fb55982be901439613a95940feefd9ee  \\\n",
       "customer_unique_id                                                   \n",
       "001147e649a7b1afd577e873841632dd                               0.0   \n",
       "001926cef41060fae572e2e7b30bd2a4                               0.0   \n",
       "002ae492472e45ad6ebeb7a625409392                               0.0   \n",
       "003e2af81ea3c72fbdd093f07724a4de                               0.0   \n",
       "004177f7bf62929186b32c7fdaa6157b                               0.0   \n",
       "\n",
       "product_id                        fb783e3e545937820b57fe539b2c5a6c  \\\n",
       "customer_unique_id                                                   \n",
       "001147e649a7b1afd577e873841632dd                               0.0   \n",
       "001926cef41060fae572e2e7b30bd2a4                               0.0   \n",
       "002ae492472e45ad6ebeb7a625409392                               0.0   \n",
       "003e2af81ea3c72fbdd093f07724a4de                               0.0   \n",
       "004177f7bf62929186b32c7fdaa6157b                               0.0   \n",
       "\n",
       "product_id                        fbc1488c1a1e72ba175f53ab29a248e8  \\\n",
       "customer_unique_id                                                   \n",
       "001147e649a7b1afd577e873841632dd                               0.0   \n",
       "001926cef41060fae572e2e7b30bd2a4                               0.0   \n",
       "002ae492472e45ad6ebeb7a625409392                               0.0   \n",
       "003e2af81ea3c72fbdd093f07724a4de                               0.0   \n",
       "004177f7bf62929186b32c7fdaa6157b                               0.0   \n",
       "\n",
       "product_id                        fbce4c4cb307679d89a3bf3d3bb353b9  \\\n",
       "customer_unique_id                                                   \n",
       "001147e649a7b1afd577e873841632dd                               0.0   \n",
       "001926cef41060fae572e2e7b30bd2a4                               0.0   \n",
       "002ae492472e45ad6ebeb7a625409392                               0.0   \n",
       "003e2af81ea3c72fbdd093f07724a4de                               0.0   \n",
       "004177f7bf62929186b32c7fdaa6157b                               0.0   \n",
       "\n",
       "product_id                        fc1d8637c0268af3db482c14b7ef8e75  \\\n",
       "customer_unique_id                                                   \n",
       "001147e649a7b1afd577e873841632dd                               0.0   \n",
       "001926cef41060fae572e2e7b30bd2a4                               0.0   \n",
       "002ae492472e45ad6ebeb7a625409392                               0.0   \n",
       "003e2af81ea3c72fbdd093f07724a4de                               0.0   \n",
       "004177f7bf62929186b32c7fdaa6157b                               0.0   \n",
       "\n",
       "product_id                        fe6a9515d655fa7936b8a7c841039f34  \n",
       "customer_unique_id                                                  \n",
       "001147e649a7b1afd577e873841632dd                               0.0  \n",
       "001926cef41060fae572e2e7b30bd2a4                               0.0  \n",
       "002ae492472e45ad6ebeb7a625409392                               0.0  \n",
       "003e2af81ea3c72fbdd093f07724a4de                               0.0  \n",
       "004177f7bf62929186b32c7fdaa6157b                               0.0  \n",
       "\n",
       "[5 rows x 364 columns]"
      ]
     },
     "execution_count": 192,
     "metadata": {},
     "output_type": "execute_result"
    }
   ],
   "source": [
    "final_ratings_matrix = df_final.groupby(['customer_unique_id', 'product_id'])['review_score'].mean().unstack(fill_value=0)\n",
    "\n",
    "\n",
    "print('Shape of final_ratings_matrix: ', final_ratings_matrix.shape)\n",
    "\n",
    "# Finding the number of non-zero entries in the interaction matrix\n",
    "given_num_of_ratings = np.count_nonzero(final_ratings_matrix)\n",
    "print('given_num_of_ratings = ', given_num_of_ratings)\n",
    "\n",
    "# Finding the possible number of ratings as per the number of users and products\n",
    "possible_num_of_ratings = final_ratings_matrix.shape[0] * final_ratings_matrix.shape[1]\n",
    "print('possible_num_of_ratings = ', possible_num_of_ratings)\n",
    "\n",
    "# Density of ratings\n",
    "density = (given_num_of_ratings / possible_num_of_ratings)\n",
    "density *= 100\n",
    "print('density: {:4.2f}%'.format(density))\n",
    "\n",
    "final_ratings_matrix.head()"
   ]
  },
  {
   "cell_type": "code",
   "execution_count": 194,
   "id": "97e9f501-b526-4b66-afb5-e286bef88987",
   "metadata": {},
   "outputs": [],
   "source": [
    "user_ratings=final_ratings_matrix.stack().reset_index(name='rating')"
   ]
  },
  {
   "cell_type": "code",
   "execution_count": 196,
   "id": "a514930c-e20e-44c4-b068-2c952946069a",
   "metadata": {},
   "outputs": [
    {
     "data": {
      "text/html": [
       "<div>\n",
       "<style scoped>\n",
       "    .dataframe tbody tr th:only-of-type {\n",
       "        vertical-align: middle;\n",
       "    }\n",
       "\n",
       "    .dataframe tbody tr th {\n",
       "        vertical-align: top;\n",
       "    }\n",
       "\n",
       "    .dataframe thead th {\n",
       "        text-align: right;\n",
       "    }\n",
       "</style>\n",
       "<table border=\"1\" class=\"dataframe\">\n",
       "  <thead>\n",
       "    <tr style=\"text-align: right;\">\n",
       "      <th></th>\n",
       "      <th>customer_unique_id</th>\n",
       "      <th>product_id</th>\n",
       "      <th>rating</th>\n",
       "    </tr>\n",
       "  </thead>\n",
       "  <tbody>\n",
       "    <tr>\n",
       "      <th>0</th>\n",
       "      <td>001147e649a7b1afd577e873841632dd</td>\n",
       "      <td>00ba6d766f0b1d7b78a5ce3e1e033263</td>\n",
       "      <td>0.0</td>\n",
       "    </tr>\n",
       "    <tr>\n",
       "      <th>1</th>\n",
       "      <td>001147e649a7b1afd577e873841632dd</td>\n",
       "      <td>0152f69b6cf919bcdaf117aa8c43e5a2</td>\n",
       "      <td>0.0</td>\n",
       "    </tr>\n",
       "    <tr>\n",
       "      <th>2</th>\n",
       "      <td>001147e649a7b1afd577e873841632dd</td>\n",
       "      <td>017692475c1c954ff597feda05131d73</td>\n",
       "      <td>0.0</td>\n",
       "    </tr>\n",
       "    <tr>\n",
       "      <th>3</th>\n",
       "      <td>001147e649a7b1afd577e873841632dd</td>\n",
       "      <td>03e1c946c0ddfc58724ff262aef08dff</td>\n",
       "      <td>0.0</td>\n",
       "    </tr>\n",
       "    <tr>\n",
       "      <th>4</th>\n",
       "      <td>001147e649a7b1afd577e873841632dd</td>\n",
       "      <td>0449db5eede617c5fd413071d582f038</td>\n",
       "      <td>0.0</td>\n",
       "    </tr>\n",
       "    <tr>\n",
       "      <th>...</th>\n",
       "      <td>...</td>\n",
       "      <td>...</td>\n",
       "      <td>...</td>\n",
       "    </tr>\n",
       "    <tr>\n",
       "      <th>1385015</th>\n",
       "      <td>ffad6a7a0e13be3dfd9de96a81b77c9e</td>\n",
       "      <td>fb783e3e545937820b57fe539b2c5a6c</td>\n",
       "      <td>0.0</td>\n",
       "    </tr>\n",
       "    <tr>\n",
       "      <th>1385016</th>\n",
       "      <td>ffad6a7a0e13be3dfd9de96a81b77c9e</td>\n",
       "      <td>fbc1488c1a1e72ba175f53ab29a248e8</td>\n",
       "      <td>0.0</td>\n",
       "    </tr>\n",
       "    <tr>\n",
       "      <th>1385017</th>\n",
       "      <td>ffad6a7a0e13be3dfd9de96a81b77c9e</td>\n",
       "      <td>fbce4c4cb307679d89a3bf3d3bb353b9</td>\n",
       "      <td>0.0</td>\n",
       "    </tr>\n",
       "    <tr>\n",
       "      <th>1385018</th>\n",
       "      <td>ffad6a7a0e13be3dfd9de96a81b77c9e</td>\n",
       "      <td>fc1d8637c0268af3db482c14b7ef8e75</td>\n",
       "      <td>0.0</td>\n",
       "    </tr>\n",
       "    <tr>\n",
       "      <th>1385019</th>\n",
       "      <td>ffad6a7a0e13be3dfd9de96a81b77c9e</td>\n",
       "      <td>fe6a9515d655fa7936b8a7c841039f34</td>\n",
       "      <td>0.0</td>\n",
       "    </tr>\n",
       "  </tbody>\n",
       "</table>\n",
       "<p>1385020 rows × 3 columns</p>\n",
       "</div>"
      ],
      "text/plain": [
       "                       customer_unique_id                        product_id  \\\n",
       "0        001147e649a7b1afd577e873841632dd  00ba6d766f0b1d7b78a5ce3e1e033263   \n",
       "1        001147e649a7b1afd577e873841632dd  0152f69b6cf919bcdaf117aa8c43e5a2   \n",
       "2        001147e649a7b1afd577e873841632dd  017692475c1c954ff597feda05131d73   \n",
       "3        001147e649a7b1afd577e873841632dd  03e1c946c0ddfc58724ff262aef08dff   \n",
       "4        001147e649a7b1afd577e873841632dd  0449db5eede617c5fd413071d582f038   \n",
       "...                                   ...                               ...   \n",
       "1385015  ffad6a7a0e13be3dfd9de96a81b77c9e  fb783e3e545937820b57fe539b2c5a6c   \n",
       "1385016  ffad6a7a0e13be3dfd9de96a81b77c9e  fbc1488c1a1e72ba175f53ab29a248e8   \n",
       "1385017  ffad6a7a0e13be3dfd9de96a81b77c9e  fbce4c4cb307679d89a3bf3d3bb353b9   \n",
       "1385018  ffad6a7a0e13be3dfd9de96a81b77c9e  fc1d8637c0268af3db482c14b7ef8e75   \n",
       "1385019  ffad6a7a0e13be3dfd9de96a81b77c9e  fe6a9515d655fa7936b8a7c841039f34   \n",
       "\n",
       "         rating  \n",
       "0           0.0  \n",
       "1           0.0  \n",
       "2           0.0  \n",
       "3           0.0  \n",
       "4           0.0  \n",
       "...         ...  \n",
       "1385015     0.0  \n",
       "1385016     0.0  \n",
       "1385017     0.0  \n",
       "1385018     0.0  \n",
       "1385019     0.0  \n",
       "\n",
       "[1385020 rows x 3 columns]"
      ]
     },
     "execution_count": 196,
     "metadata": {},
     "output_type": "execute_result"
    }
   ],
   "source": [
    "user_ratings"
   ]
  },
  {
   "cell_type": "code",
   "execution_count": 198,
   "id": "af7ed5bc-a7f3-412d-aea9-d2f13d03b8de",
   "metadata": {},
   "outputs": [],
   "source": [
    "df_data=spark.createDataFrame(user_ratings)"
   ]
  },
  {
   "cell_type": "code",
   "execution_count": 199,
   "id": "c25a8ed9-f654-493f-bd64-05b88a056b58",
   "metadata": {},
   "outputs": [
    {
     "name": "stderr",
     "output_type": "stream",
     "text": [
      "[Stage 94360:>                                                      (0 + 1) / 1]\r"
     ]
    },
    {
     "name": "stdout",
     "output_type": "stream",
     "text": [
      "+--------------------+--------------------+------+\n",
      "|  customer_unique_id|          product_id|rating|\n",
      "+--------------------+--------------------+------+\n",
      "|001147e649a7b1afd...|00ba6d766f0b1d7b7...|   0.0|\n",
      "|001147e649a7b1afd...|0152f69b6cf919bcd...|   0.0|\n",
      "|001147e649a7b1afd...|017692475c1c954ff...|   0.0|\n",
      "|001147e649a7b1afd...|03e1c946c0ddfc587...|   0.0|\n",
      "|001147e649a7b1afd...|0449db5eede617c5f...|   0.0|\n",
      "+--------------------+--------------------+------+\n",
      "only showing top 5 rows\n",
      "\n"
     ]
    },
    {
     "name": "stderr",
     "output_type": "stream",
     "text": [
      "                                                                                \r"
     ]
    }
   ],
   "source": [
    "df_data.show(5)"
   ]
  },
  {
   "cell_type": "code",
   "execution_count": 202,
   "id": "8dded48c-22ea-4cc7-b071-be4ea44c6c3c",
   "metadata": {},
   "outputs": [
    {
     "name": "stderr",
     "output_type": "stream",
     "text": [
      "                                                                                \r"
     ]
    },
    {
     "name": "stdout",
     "output_type": "stream",
     "text": [
      "+--------------------+--------------------+------+------------------------+----------------+\n",
      "|  customer_unique_id|          product_id|rating|customer_unique_id_index|product_id_index|\n",
      "+--------------------+--------------------+------+------------------------+----------------+\n",
      "|001147e649a7b1afd...|00ba6d766f0b1d7b7...|   0.0|                     0.0|             0.0|\n",
      "|001147e649a7b1afd...|0152f69b6cf919bcd...|   0.0|                     0.0|             1.0|\n",
      "|001147e649a7b1afd...|017692475c1c954ff...|   0.0|                     0.0|             2.0|\n",
      "|001147e649a7b1afd...|03e1c946c0ddfc587...|   0.0|                     0.0|             3.0|\n",
      "|001147e649a7b1afd...|0449db5eede617c5f...|   0.0|                     0.0|             4.0|\n",
      "|001147e649a7b1afd...|04c4a4b9c924494fc...|   0.0|                     0.0|             5.0|\n",
      "|001147e649a7b1afd...|054515fd15bc1a202...|   0.0|                     0.0|             6.0|\n",
      "|001147e649a7b1afd...|0554911df28fda9fd...|   0.0|                     0.0|             7.0|\n",
      "|001147e649a7b1afd...|060c17562f97e5bb6...|   0.0|                     0.0|             8.0|\n",
      "|001147e649a7b1afd...|060cb19345d90064d...|   0.0|                     0.0|             9.0|\n",
      "|001147e649a7b1afd...|06c6e01186af8b98e...|   0.0|                     0.0|            10.0|\n",
      "|001147e649a7b1afd...|06edb72f1e0c64b14...|   0.0|                     0.0|            11.0|\n",
      "|001147e649a7b1afd...|07c055536ebf10dfb...|   0.0|                     0.0|            12.0|\n",
      "|001147e649a7b1afd...|07f01b6fcacc1b187...|   0.0|                     0.0|            13.0|\n",
      "|001147e649a7b1afd...|08574b074924071f4...|   0.0|                     0.0|            14.0|\n",
      "|001147e649a7b1afd...|086351823300e0339...|   0.0|                     0.0|            15.0|\n",
      "|001147e649a7b1afd...|09b0d15a8cc9a84e7...|   0.0|                     0.0|            16.0|\n",
      "|001147e649a7b1afd...|09c3a2ea33f044aeb...|   0.0|                     0.0|            17.0|\n",
      "|001147e649a7b1afd...|0a4093a4af429dc0a...|   0.0|                     0.0|            18.0|\n",
      "|001147e649a7b1afd...|0a4f9f421af66d2ea...|   0.0|                     0.0|            19.0|\n",
      "+--------------------+--------------------+------+------------------------+----------------+\n",
      "only showing top 20 rows\n",
      "\n"
     ]
    },
    {
     "name": "stderr",
     "output_type": "stream",
     "text": [
      "                                                                                \r"
     ]
    }
   ],
   "source": [
    "from pyspark.ml.feature import StringIndexer\n",
    "from pyspark.ml import Pipeline\n",
    "from pyspark.sql.functions import col\n",
    "indexer = [StringIndexer(inputCol=column, outputCol=column+\"_index\") for column in list(set(df_data.columns)-set(['rating'])) ]\n",
    "pipeline = Pipeline(stages=indexer)\n",
    "transformed = pipeline.fit(df_data).transform(df_data)\n",
    "transformed.show()"
   ]
  },
  {
   "cell_type": "code",
   "execution_count": 204,
   "id": "57f5ccb5-e269-4af5-887b-c1b1fd4ab014",
   "metadata": {},
   "outputs": [
    {
     "name": "stderr",
     "output_type": "stream",
     "text": [
      "                                                                                \r"
     ]
    },
    {
     "name": "stdout",
     "output_type": "stream",
     "text": [
      "+--------------------+-----+\n",
      "|  customer_unique_id|count|\n",
      "+--------------------+-----+\n",
      "|14a188558af6cd5bc...|  364|\n",
      "|1d2435aa3b858d45c...|  364|\n",
      "|0cf0c4ba8023930f2...|  364|\n",
      "|20a5257c01689ac69...|  364|\n",
      "|068b769463d8f4148...|  364|\n",
      "|0fb360a422d2297dc...|  364|\n",
      "|200d8b1f16d0cc960...|  364|\n",
      "|208fe9aa6033a7741...|  364|\n",
      "|20ae758fb6688386d...|  364|\n",
      "|078401292a38d006a...|  364|\n",
      "+--------------------+-----+\n",
      "only showing top 10 rows\n",
      "\n"
     ]
    },
    {
     "name": "stderr",
     "output_type": "stream",
     "text": [
      "[Stage 94371:>                                                      (0 + 8) / 8]\r"
     ]
    },
    {
     "name": "stdout",
     "output_type": "stream",
     "text": [
      "+--------------------+-----+\n",
      "|          product_id|count|\n",
      "+--------------------+-----+\n",
      "|35bc6c77029697004...| 3805|\n",
      "|a3daee3915d4fb983...| 3805|\n",
      "|64fb265487de22386...| 3805|\n",
      "|53b36df67ebb7c415...| 3805|\n",
      "|d5991653e037ccb7a...| 3805|\n",
      "|36f60d45225e60c7d...| 3805|\n",
      "|d3c044bd42d84a79e...| 3805|\n",
      "|130482add9fd75ccb...| 3805|\n",
      "|473795a355d29305c...| 3805|\n",
      "|70906e04da1eebf3d...| 3805|\n",
      "+--------------------+-----+\n",
      "only showing top 10 rows\n",
      "\n"
     ]
    },
    {
     "name": "stderr",
     "output_type": "stream",
     "text": [
      "                                                                                \r"
     ]
    }
   ],
   "source": [
    "transformed.groupBy(\"customer_unique_id\").count().orderBy(\"count\", ascending=False).show(10)\n",
    "transformed.groupBy(\"product_id\").count().orderBy(\"count\", ascending=False).show(10)"
   ]
  },
  {
   "cell_type": "code",
   "execution_count": 206,
   "id": "7f2a2517-eae0-4ba6-899b-137f6908c63c",
   "metadata": {},
   "outputs": [],
   "source": [
    "(training,test)=transformed.randomSplit([0.8, 0.2])"
   ]
  },
  {
   "cell_type": "code",
   "execution_count": 208,
   "id": "c4b2ff1d-f896-4141-8991-bd265fb3092c",
   "metadata": {},
   "outputs": [],
   "source": [
    "training = training.repartition(200, \"customer_unique_id\")"
   ]
  },
  {
   "cell_type": "code",
   "execution_count": 210,
   "id": "844c2ef0-483c-47ae-bda0-1340d700e1c7",
   "metadata": {},
   "outputs": [],
   "source": [
    "# dfs_train, dfs_test = spark_random_split(df_data, ratio=0.75, seed=42)"
   ]
  },
  {
   "cell_type": "code",
   "execution_count": 212,
   "id": "aaaf4906-5df2-458a-ab17-ee9f10fc26b9",
   "metadata": {},
   "outputs": [],
   "source": [
    "# als = ALS(\n",
    "#     maxIter=MAX_ITER, \n",
    "#     rank=RANK,\n",
    "#     regParam=REG_PARAM, \n",
    "#     userCol=COL_USER, \n",
    "#     itemCol=COL_ITEM, \n",
    "#     ratingCol=COL_RATING, \n",
    "#     coldStartStrategy=\"drop\"\n",
    "# )\n",
    "\n",
    "# model = als.fit(dfs_train)"
   ]
  },
  {
   "cell_type": "markdown",
   "id": "202e502c-1d4f-49c8-ac14-2428578059bd",
   "metadata": {},
   "source": [
    "### Cross Validation for Model Hyperparameters Tuning"
   ]
  },
  {
   "cell_type": "code",
   "execution_count": 263,
   "id": "dc17fe62-4f44-4b86-b10c-4bd6822209e9",
   "metadata": {},
   "outputs": [],
   "source": [
    "from pyspark.ml.recommendation import ALS\n",
    "from pyspark.ml.evaluation import RegressionEvaluator\n",
    "from pyspark.ml.tuning import CrossValidator, ParamGridBuilder\n",
    "from pyspark.ml import Pipeline\n",
    "\n",
    "def cross_validate_als(interaction_matrix):\n",
    "    \n",
    "    # Define the ALS model\n",
    "    als = ALS(userCol=\"customer_unique_id_index\",itemCol=\"product_id_index\",ratingCol=\"rating\", \n",
    "              nonnegative=True, coldStartStrategy='drop', implicitPrefs=False)\n",
    "\n",
    "    # Define the parameter grid for hyperparameter tuning\n",
    "    param_grid = ParamGridBuilder().addGrid(als.rank, [1, 20, 30])\\\n",
    "    .addGrid(als.regParam, [0.01, 0.05, 0.1]) \\\n",
    "    .addGrid(als.maxIter, [10, 20])\\\n",
    "    .build()\n",
    "        \n",
    "    # Define the evaluator for computing the evaluation metrics\n",
    "    evaluator = RegressionEvaluator(metricName='rmse', labelCol='rating', predictionCol='prediction')\n",
    "\n",
    "    # Define the cross-validator for performing 5-fold cross-validation\n",
    "    cv = CrossValidator(estimator=als, estimatorParamMaps=param_grid, evaluator=evaluator, numFolds=5, collectSubModels=False)\n",
    "\n",
    "    # Define the pipeline for fitting the model and evaluating it\n",
    "    pipeline = Pipeline(stages=[cv])\n",
    "\n",
    "    # Fit the pipeline on the data and evaluate the model\n",
    "    model = pipeline.fit(interaction_matrix)\n",
    "    \n",
    "    return model\n"
   ]
  },
  {
   "cell_type": "code",
   "execution_count": 265,
   "id": "8894d87c-a19f-4798-a29e-4d6a31540cd4",
   "metadata": {},
   "outputs": [
    {
     "name": "stderr",
     "output_type": "stream",
     "text": [
      "                                                                                1]1]\r"
     ]
    }
   ],
   "source": [
    "model = cross_validate_als(training)\n",
    "\n",
    "# Model with the lowest RMSE value \n",
    "#bestModel = model.stages[0].bestModel\n"
   ]
  },
  {
   "cell_type": "code",
   "execution_count": 267,
   "id": "3ff550f1-9e43-45ae-924c-2453a4fac476",
   "metadata": {},
   "outputs": [
    {
     "name": "stdout",
     "output_type": "stream",
     "text": [
      "rank:  30\n",
      "MaxIter:  10\n",
      "RegParam:  0.05\n",
      "alpha:  0.0\n"
     ]
    }
   ],
   "source": [
    "best_model = model.stages[0].bestModel\n",
    "print('rank: ', best_model.rank)\n",
    "print('MaxIter: ', best_model._java_obj.parent().getMaxIter())\n",
    "print('RegParam: ', best_model._java_obj.parent().getRegParam())\n",
    "print('alpha: ',  bestModel._java_obj.parent().getAlpha())"
   ]
  },
  {
   "cell_type": "code",
   "execution_count": 269,
   "id": "aae9fb26-b0ea-49f6-af9d-cc1321a5ec1c",
   "metadata": {},
   "outputs": [
    {
     "name": "stderr",
     "output_type": "stream",
     "text": [
      "[Stage 298388:(124 + 8) / 200][Stage 298390:(0 + 0) / 1][Stage 298393:(0 + 0) / 1]\r"
     ]
    },
    {
     "name": "stdout",
     "output_type": "stream",
     "text": [
      "+--------------------+--------------------+------+------------------------+----------------+-------------+\n",
      "|  customer_unique_id|          product_id|rating|customer_unique_id_index|product_id_index|   prediction|\n",
      "+--------------------+--------------------+------+------------------------+----------------+-------------+\n",
      "|6e62ba22142e89bac...|0152f69b6cf919bcd...|   0.0|                  1591.0|             1.0|1.1131893E-15|\n",
      "|6e62ba22142e89bac...|017692475c1c954ff...|   0.0|                  1591.0|             2.0|          0.0|\n",
      "|6e62ba22142e89bac...|03e1c946c0ddfc587...|   0.0|                  1591.0|             3.0|          0.0|\n",
      "|6e62ba22142e89bac...|0449db5eede617c5f...|   0.0|                  1591.0|             4.0|          0.0|\n",
      "|6e62ba22142e89bac...|04c4a4b9c924494fc...|   0.0|                  1591.0|             5.0|          0.0|\n",
      "|6e62ba22142e89bac...|054515fd15bc1a202...|   0.0|                  1591.0|             6.0|          0.0|\n",
      "|6e62ba22142e89bac...|060c17562f97e5bb6...|   0.0|                  1591.0|             8.0|          0.0|\n",
      "|6e62ba22142e89bac...|060cb19345d90064d...|   0.0|                  1591.0|             9.0|          0.0|\n",
      "|6e62ba22142e89bac...|06c6e01186af8b98e...|   0.0|                  1591.0|            10.0|          0.0|\n",
      "|6e62ba22142e89bac...|07f01b6fcacc1b187...|   0.0|                  1591.0|            13.0|          0.0|\n",
      "|6e62ba22142e89bac...|08574b074924071f4...|   0.0|                  1591.0|            14.0|          0.0|\n",
      "|6e62ba22142e89bac...|086351823300e0339...|   0.0|                  1591.0|            15.0|1.3926754E-17|\n",
      "|6e62ba22142e89bac...|09b0d15a8cc9a84e7...|   0.0|                  1591.0|            16.0|          0.0|\n",
      "|6e62ba22142e89bac...|09c3a2ea33f044aeb...|   0.0|                  1591.0|            17.0|          0.0|\n",
      "|6e62ba22142e89bac...|0a4093a4af429dc0a...|   0.0|                  1591.0|            18.0|          0.0|\n",
      "|6e62ba22142e89bac...|0a9bdadab17a9b0f2...|   0.0|                  1591.0|            21.0|          0.0|\n",
      "|6e62ba22142e89bac...|0aabfb375647d9738...|   0.0|                  1591.0|            22.0|          0.0|\n",
      "|6e62ba22142e89bac...|0bcc3eeca39e10642...|   0.0|                  1591.0|            24.0|          0.0|\n",
      "|6e62ba22142e89bac...|0d85c435fd60b277f...|   0.0|                  1591.0|            26.0|          0.0|\n",
      "|6e62ba22142e89bac...|0d9374142ba86a7c2...|   0.0|                  1591.0|            27.0|          0.0|\n",
      "+--------------------+--------------------+------+------------------------+----------------+-------------+\n",
      "only showing top 20 rows\n",
      "\n"
     ]
    },
    {
     "name": "stderr",
     "output_type": "stream",
     "text": [
      "                                                                                1]\r"
     ]
    }
   ],
   "source": [
    "\n",
    "# Make predictions\n",
    "predictions = bestModel.transform(training)\n",
    "predictions.show()\n"
   ]
  },
  {
   "cell_type": "code",
   "execution_count": 271,
   "id": "f9be9fed-c124-4d1e-8a5b-66e9e977da45",
   "metadata": {},
   "outputs": [
    {
     "name": "stderr",
     "output_type": "stream",
     "text": [
      "                                                                                1]\r"
     ]
    },
    {
     "name": "stdout",
     "output_type": "stream",
     "text": [
      " rmse:0.2252487336756801 mae:0.012192261015594922\n"
     ]
    }
   ],
   "source": [
    "# Calculate RMSE and MAE metrics\n",
    "evaluator = RegressionEvaluator(metricName='rmse', labelCol='rating', predictionCol='prediction')\n",
    "rmse = evaluator.setMetricName('rmse').evaluate(predictions)\n",
    "mae = evaluator.setMetricName('mae').evaluate(predictions)\n",
    "print(' rmse:' + str(rmse) + ' mae:' + str(mae))\n"
   ]
  },
  {
   "cell_type": "code",
   "execution_count": 321,
   "id": "e7c25d95-a1ba-4ab8-8521-da68bffff2b2",
   "metadata": {},
   "outputs": [],
   "source": [
    "training_df=training.select(col(\"customer_unique_id_index\"),col(\"product_id_index\"), col(\"rating\"))\n",
    "train, validation=training_df.randomSplit([0.7,0.3], seed=99)"
   ]
  },
  {
   "cell_type": "code",
   "execution_count": 323,
   "id": "0d0a651a-8659-49fc-b2bc-3311dbfb902b",
   "metadata": {},
   "outputs": [],
   "source": [
    "def train_and_evaluate_als(training, validation, rank, regParam, maxIter):\n",
    "    als = ALS(maxIter=maxIter, rank=rank, regParam=regParam, userCol=\"customer_unique_id_index\",itemCol=\"product_id_index\",ratingCol=\"rating\", \n",
    "              nonnegative=True, coldStartStrategy='drop', implicitPrefs=False)\n",
    "    model = als.fit(training)\n",
    "\n",
    "    predictions = model.transform(validation)\n",
    "    evaluator = RegressionEvaluator(metricName=\"rmse\", labelCol=\"rating\", predictionCol=\"prediction\")\n",
    "    rmse = evaluator.evaluate(predictions)\n",
    "    return rmse"
   ]
  },
  {
   "cell_type": "code",
   "execution_count": 325,
   "id": "c65669ac-6710-4ca2-a187-2223bc3a7985",
   "metadata": {},
   "outputs": [
    {
     "name": "stderr",
     "output_type": "stream",
     "text": [
      "                                                                                1]\r"
     ]
    }
   ],
   "source": [
    "iterations = [2, 5, 10, 15, 20]\n",
    "rmse_values = []\n",
    "for iter in iterations:\n",
    "    rmse = train_and_evaluate_als(training, validation, rank=30, regParam=0.05, maxIter=iter)\n",
    "    rmse_values.append(rmse)"
   ]
  },
  {
   "cell_type": "code",
   "execution_count": 327,
   "id": "cc4d7766-07df-45f0-b224-214abc8dc78d",
   "metadata": {},
   "outputs": [
    {
     "data": {
      "image/png": "[encoded data removed]",
      "text/plain": [
       "<Figure size 640x480 with 1 Axes>"
      ]
     },
     "metadata": {},
     "output_type": "display_data"
    }
   ],
   "source": [
    "plt.plot(iterations, rmse_values)\n",
    "plt.xlabel(\"Iterations\")\n",
    "plt.ylabel(\"RMSE\")\n",
    "plt.title(\"ALS Learning Curve\")\n",
    "plt.show()"
   ]
  },
  {
   "cell_type": "markdown",
   "id": "56e5d8fe-8323-415b-9c00-2bd68fc091e8",
   "metadata": {},
   "source": [
    "The graph shows that RMSE is increasing with number of iterations, and the model is overfitting."
   ]
  },
  {
   "cell_type": "markdown",
   "id": "418025e2-c040-43a3-bd01-f093dc350db2",
   "metadata": {},
   "source": [
    "### Training Model"
   ]
  },
  {
   "cell_type": "code",
   "execution_count": 273,
   "id": "2160114f-f7e0-40a7-919c-07ea75439a85",
   "metadata": {},
   "outputs": [
    {
     "name": "stderr",
     "output_type": "stream",
     "text": [
      "[Stage 298933:>                                                     (0 + 1) / 1]\r"
     ]
    },
    {
     "name": "stdout",
     "output_type": "stream",
     "text": [
      "test rmse:0.23140925140413796 mae:0.012268902783183091\n"
     ]
    },
    {
     "name": "stderr",
     "output_type": "stream",
     "text": [
      "                                                                                \r"
     ]
    }
   ],
   "source": [
    "from pyspark.ml.recommendation import ALS\n",
    "from pyspark.ml.evaluation import RegressionEvaluator\n",
    "\n",
    "#def simple_als(interaction_matrix):\n",
    "    \n",
    "    # Train-test split\n",
    "    #(train, test) = interaction_matrix.randomSplit([0.8, 0.2])\n",
    "    \n",
    "    # Initialize the model with the optimized parameters\n",
    "als = ALS(userCol=\"customer_unique_id_index\",itemCol=\"product_id_index\",ratingCol=\"rating\", maxIter=10,\n",
    "          alpha=0.0, regParam=0.05, rank=30, implicitPrefs=True, \n",
    "          nonnegative=True, coldStartStrategy='drop')\n",
    "\n",
    "# Fit the ALS model on the ratings data\n",
    "model = als.fit(training)\n",
    "\n",
    "# Make predictions\n",
    "predictions = best_model.transform(test)\n",
    "\n",
    "# Calculate the RMSE and MAE metrics\n",
    "evaluator = RegressionEvaluator(metricName='rmse', labelCol='rating', predictionCol='prediction')\n",
    "rmse = evaluator.evaluate(predictions)\n",
    "mae = evaluator.setMetricName('mae').evaluate(predictions)\n",
    "print('test rmse:' + str(rmse) + ' mae:' + str(mae))\n",
    "\n",
    "\n"
   ]
  },
  {
   "cell_type": "code",
   "execution_count": 227,
   "id": "3441a31e-a103-45aa-bcaa-5fe1f469ca49",
   "metadata": {},
   "outputs": [
    {
     "name": "stderr",
     "output_type": "stream",
     "text": [
      "[Stage 279072:===========================================>       (86 + 8) / 100]\r"
     ]
    },
    {
     "name": "stdout",
     "output_type": "stream",
     "text": [
      "+------------------------+--------------------+\n",
      "|customer_unique_id_index|     recommendations|\n",
      "+------------------------+--------------------+\n",
      "|                      26|[{99, 1.22042E-4}...|\n",
      "|                      27|[{99, 5.904459E-9...|\n",
      "|                      28|[{99, 4.9281876E-...|\n",
      "|                      31|[{99, 1.2435938E-...|\n",
      "|                      34|[{214, 1.7780683E...|\n",
      "|                      44|[{84, 2.318453E-9...|\n",
      "|                      53|[{122, 0.90258265...|\n",
      "|                      65|[{363, 0.0}, {362...|\n",
      "|                      76|[{36, 0.001375694...|\n",
      "|                      78|[{36, 5.123226E-1...|\n",
      "+------------------------+--------------------+\n",
      "only showing top 10 rows\n",
      "\n"
     ]
    },
    {
     "name": "stderr",
     "output_type": "stream",
     "text": [
      "                                                                                \r"
     ]
    }
   ],
   "source": [
    "userRecs = model.recommendForAllUsers(100) \n",
    "userRecs.show(10)"
   ]
  },
  {
   "cell_type": "code",
   "execution_count": 275,
   "id": "df2dde85-12f4-4e0f-b28d-7f5a9529ee6b",
   "metadata": {},
   "outputs": [],
   "source": [
    "# 3 random users\n",
    "user_subset = [85, 170, 200]\n",
    "\n",
    "# Recommend top 500 products for the users\n",
    "recommendations = spark.createDataFrame([(user, 0) for user in user_subset], ['customer_unique_id_index', 'product_id_index'])\n",
    "recommendations = model.recommendForUserSubset(recommendations, 5)"
   ]
  },
  {
   "cell_type": "code",
   "execution_count": 277,
   "id": "10cffa9d-87f4-41e5-bfcd-1555e7f6d0e0",
   "metadata": {},
   "outputs": [
    {
     "name": "stdout",
     "output_type": "stream",
     "text": [
      "+------------------------+--------------------+\n",
      "|customer_unique_id_index|     recommendations|\n",
      "+------------------------+--------------------+\n",
      "|                      85|[{296, 0.24676909...|\n",
      "|                     200|[{117, 4.0225426E...|\n",
      "|                     170|[{97, 0.9527734},...|\n",
      "+------------------------+--------------------+\n",
      "\n"
     ]
    }
   ],
   "source": [
    "recommendations.show()"
   ]
  },
  {
   "cell_type": "code",
   "execution_count": 279,
   "id": "40d23a45-b843-404d-b00c-4127ddff2b6c",
   "metadata": {},
   "outputs": [
    {
     "name": "stderr",
     "output_type": "stream",
     "text": [
      "                                                                                \r"
     ]
    },
    {
     "name": "stdout",
     "output_type": "stream",
     "text": [
      "+----------------+--------------------+\n",
      "|product_id_index|              rating|\n",
      "+----------------+--------------------+\n",
      "|             117|4.022542634629644...|\n",
      "|             347|3.083144838456064...|\n",
      "|             243|1.883283584902528...|\n",
      "|              24|3.774537162826163...|\n",
      "|             232|1.071112365025328...|\n",
      "+----------------+--------------------+\n",
      "\n"
     ]
    }
   ],
   "source": [
    "\n",
    "recs_for_user_1 = spark.createDataFrame(recommendations.collect()[1][1])\n",
    "recs_for_user_1.show()"
   ]
  },
  {
   "cell_type": "code",
   "execution_count": null,
   "id": "66578476-d3e2-4a98-812e-9d0c8a2bace8",
   "metadata": {},
   "outputs": [],
   "source": [
    "# def calculate_recommendation_scores_for_user(user_id, recs, products, users, coef_als_score=0.8, coef_conversion_rate=0.1, coef_spending_habit=0.1, coef_spending_booster=0.05):\n",
    "   \n",
    "#     recs = recs.join(products['product_id', 'purchase_per_view', 'relative_price'], on='product_id')\n",
    "    \n",
    "#     user_avg_relative_price = users.filter(col('user_id') == user_id)['user_id', 'avg_relative_price_purchased'].collect()[0][1]\n",
    "\n",
    "    \n",
    "#     # Scale CF rating score, ranges from 0 to 2\n",
    "#     recs = recs.withColumn('rating', col('rating') / 2)\n",
    "    \n",
    "#     # Scale purchase_per_view rate, ranges from 0 to 0.075\n",
    "#     recs = recs.withColumn('purchase_per_view', col('purchase_per_view') / 0.075)\n",
    "    \n",
    "#     # Scale relative price value, ranges from -5 to 5\n",
    "#     recs = recs.withColumn('relative_price', (col('relative_price') + 5) / 10)\n",
    "    \n",
    "#     # Scale users average relative price value, ranges from -1 to 1\n",
    "#     user_avg_relative_price = (user_avg_relative_price + 1) / 2\n",
    "    \n",
    "    \n",
    "#     # Calculate the recommendation scores\n",
    "#     recs = recs.withColumn('recommendation_score', ((recs['rating'] * coef_als_score) + (recs['purchase_per_view'] * coef_conversion_rate) - abs(user_avg_relative_price + coef_spending_booster - recs['relative_price']) * coef_spending_habit) / (coef_als_score + coef_conversion_rate + coef_spending_habit)) \n",
    "\n",
    "    \n",
    "#     # Scale back CF rating score, ranges from 0 to 2\n",
    "#     recs = recs.withColumn('rating', col('rating') * 2)\n",
    "\n",
    "#     # Scale back purchase_per_view rate, ranges from 0 to 0.075\n",
    "#     recs = recs.withColumn('purchase_per_view', col('purchase_per_view') * 0.075)\n",
    "    \n",
    "#     # Scale back relative price value, ranges from -1 to 1\n",
    "#     recs = recs.withColumn('relative_price', col('relative_price') * 2 - 1)\n",
    "\n",
    "#     # Scale back average relative price value, ranges from -5 to 5\n",
    "#     user_avg_relative_price = user_avg_relative_price * 10 - 5\n",
    "    \n",
    "#     return recs"
   ]
  },
  {
   "cell_type": "markdown",
   "id": "d4989d50-e8fb-4bb9-9cc2-6fb56a7872f9",
   "metadata": {},
   "source": [
    "### Evaluation"
   ]
  },
  {
   "cell_type": "code",
   "execution_count": 285,
   "id": "e92b0cf0-84fe-40a3-b5f1-317c1ecfbc88",
   "metadata": {},
   "outputs": [
    {
     "name": "stderr",
     "output_type": "stream",
     "text": [
      "                                                                                ]\r"
     ]
    }
   ],
   "source": [
    "from pyspark.mllib.evaluation import RankingMetrics\n",
    "from pyspark.sql.functions import col, collect_list\n",
    "\n",
    "# Prepare the input for RankingMetrics\n",
    "user_ground_truth = test.groupby('customer_unique_id_index').agg(collect_list('product_id_index').alias('ground_truth_items'))\n",
    "user_train_items = training.groupby('customer_unique_id_index').agg(collect_list('product_id_index').alias('train_items'))\n",
    "\n",
    "# Join the recommendations and ground truth data on the user ID\n",
    "user_eval = userRecs.join(user_ground_truth, on='customer_unique_id_index').join(user_train_items, on='customer_unique_id_index') \\\n",
    "    .select('customer_unique_id_index', 'recommendations.product_id_index', 'ground_truth_items', 'train_items', 'recommendations.rating')\n",
    "user_eval = user_eval.toPandas()\n",
    "user_eval['itemIndex_filtered'] = user_eval.apply(lambda x:[b for (b,z) in zip(x.product_id_index, x.rating) if b not in x.train_items], axis=1)\n",
    "user_eval['rating_filtered'] = user_eval.apply(lambda x:[z for (b,z) in zip(x.product_id_index, x.rating) if b not in x.train_items], axis=1)"
   ]
  },
  {
   "cell_type": "code",
   "execution_count": 293,
   "id": "53a145db-16ce-498c-8003-693edcb90da2",
   "metadata": {},
   "outputs": [
    {
     "data": {
      "text/html": [
       "<div>\n",
       "<style scoped>\n",
       "    .dataframe tbody tr th:only-of-type {\n",
       "        vertical-align: middle;\n",
       "    }\n",
       "\n",
       "    .dataframe tbody tr th {\n",
       "        vertical-align: top;\n",
       "    }\n",
       "\n",
       "    .dataframe thead th {\n",
       "        text-align: right;\n",
       "    }\n",
       "</style>\n",
       "<table border=\"1\" class=\"dataframe\">\n",
       "  <thead>\n",
       "    <tr style=\"text-align: right;\">\n",
       "      <th></th>\n",
       "      <th>customer_unique_id_index</th>\n",
       "      <th>product_id_index</th>\n",
       "      <th>ground_truth_items</th>\n",
       "      <th>train_items</th>\n",
       "      <th>rating</th>\n",
       "      <th>itemIndex_filtered</th>\n",
       "      <th>rating_filtered</th>\n",
       "      <th>precision</th>\n",
       "    </tr>\n",
       "  </thead>\n",
       "  <tbody>\n",
       "    <tr>\n",
       "      <th>0</th>\n",
       "      <td>496</td>\n",
       "      <td>[363, 362, 361, 360, 359, 358, 357, 356, 355, ...</td>\n",
       "      <td>[3.0, 13.0, 21.0, 33.0, 36.0, 46.0, 48.0, 52.0...</td>\n",
       "      <td>[0.0, 1.0, 2.0, 4.0, 5.0, 6.0, 7.0, 8.0, 9.0, ...</td>\n",
       "      <td>[0.0, 0.0, 0.0, 0.0, 0.0, 0.0, 0.0, 0.0, 0.0, ...</td>\n",
       "      <td>[361, 359, 358, 353, 339, 329, 315, 306, 299, ...</td>\n",
       "      <td>[0.0, 0.0, 0.0, 0.0, 0.0, 0.0, 0.0, 0.0, 0.0, ...</td>\n",
       "      <td>0.542117</td>\n",
       "    </tr>\n",
       "    <tr>\n",
       "      <th>1</th>\n",
       "      <td>596</td>\n",
       "      <td>[363, 362, 361, 360, 359, 358, 357, 356, 355, ...</td>\n",
       "      <td>[1.0, 4.0, 5.0, 7.0, 10.0, 15.0, 20.0, 25.0, 3...</td>\n",
       "      <td>[0.0, 2.0, 3.0, 6.0, 8.0, 9.0, 11.0, 12.0, 13....</td>\n",
       "      <td>[0.0, 0.0, 0.0, 0.0, 0.0, 0.0, 0.0, 0.0, 0.0, ...</td>\n",
       "      <td>[362, 350, 344, 327, 326, 325, 318, 311, 307, ...</td>\n",
       "      <td>[0.0, 0.0, 0.0, 0.0, 0.0, 0.0, 0.0, 0.0, 0.0, ...</td>\n",
       "      <td>0.536759</td>\n",
       "    </tr>\n",
       "    <tr>\n",
       "      <th>2</th>\n",
       "      <td>1051</td>\n",
       "      <td>[99, 80, 11, 24, 59, 289, 243, 296, 272, 22, 1...</td>\n",
       "      <td>[2.0, 6.0, 13.0, 16.0, 20.0, 29.0, 31.0, 35.0,...</td>\n",
       "      <td>[0.0, 1.0, 3.0, 4.0, 5.0, 7.0, 8.0, 9.0, 10.0,...</td>\n",
       "      <td>[6.310345024296282e-10, 3.5043034012777197e-12...</td>\n",
       "      <td>[243, 225, 155, 70, 45, 246, 171, 309, 173, 19...</td>\n",
       "      <td>[1.2526346062843863e-12, 1.6880703920200274e-1...</td>\n",
       "      <td>0.618995</td>\n",
       "    </tr>\n",
       "    <tr>\n",
       "      <th>3</th>\n",
       "      <td>1350</td>\n",
       "      <td>[84, 24, 243, 90, 122, 97, 285, 211, 36, 99, 6...</td>\n",
       "      <td>[4.0, 14.0, 15.0, 20.0, 26.0, 29.0, 41.0, 52.0...</td>\n",
       "      <td>[0.0, 1.0, 2.0, 3.0, 5.0, 6.0, 7.0, 8.0, 9.0, ...</td>\n",
       "      <td>[0.8584790825843811, 0.0488542802631855, 0.034...</td>\n",
       "      <td>[122, 97, 211, 68, 232, 238, 250, 179, 59, 272...</td>\n",
       "      <td>[0.023703014478087425, 0.019505321979522705, 0...</td>\n",
       "      <td>0.730919</td>\n",
       "    </tr>\n",
       "    <tr>\n",
       "      <th>4</th>\n",
       "      <td>2821</td>\n",
       "      <td>[363, 362, 361, 360, 359, 358, 357, 356, 355, ...</td>\n",
       "      <td>[1.0, 11.0, 17.0, 21.0, 27.0, 28.0, 33.0, 40.0...</td>\n",
       "      <td>[0.0, 2.0, 3.0, 4.0, 5.0, 6.0, 7.0, 8.0, 9.0, ...</td>\n",
       "      <td>[0.0, 0.0, 0.0, 0.0, 0.0, 0.0, 0.0, 0.0, 0.0, ...</td>\n",
       "      <td>[356, 354, 352, 339, 336, 327, 317, 316, 305, ...</td>\n",
       "      <td>[0.0, 0.0, 0.0, 0.0, 0.0, 0.0, 0.0, 0.0, 0.0, ...</td>\n",
       "      <td>0.542117</td>\n",
       "    </tr>\n",
       "  </tbody>\n",
       "</table>\n",
       "</div>"
      ],
      "text/plain": [
       "   customer_unique_id_index  \\\n",
       "0                       496   \n",
       "1                       596   \n",
       "2                      1051   \n",
       "3                      1350   \n",
       "4                      2821   \n",
       "\n",
       "                                    product_id_index  \\\n",
       "0  [363, 362, 361, 360, 359, 358, 357, 356, 355, ...   \n",
       "1  [363, 362, 361, 360, 359, 358, 357, 356, 355, ...   \n",
       "2  [99, 80, 11, 24, 59, 289, 243, 296, 272, 22, 1...   \n",
       "3  [84, 24, 243, 90, 122, 97, 285, 211, 36, 99, 6...   \n",
       "4  [363, 362, 361, 360, 359, 358, 357, 356, 355, ...   \n",
       "\n",
       "                                  ground_truth_items  \\\n",
       "0  [3.0, 13.0, 21.0, 33.0, 36.0, 46.0, 48.0, 52.0...   \n",
       "1  [1.0, 4.0, 5.0, 7.0, 10.0, 15.0, 20.0, 25.0, 3...   \n",
       "2  [2.0, 6.0, 13.0, 16.0, 20.0, 29.0, 31.0, 35.0,...   \n",
       "3  [4.0, 14.0, 15.0, 20.0, 26.0, 29.0, 41.0, 52.0...   \n",
       "4  [1.0, 11.0, 17.0, 21.0, 27.0, 28.0, 33.0, 40.0...   \n",
       "\n",
       "                                         train_items  \\\n",
       "0  [0.0, 1.0, 2.0, 4.0, 5.0, 6.0, 7.0, 8.0, 9.0, ...   \n",
       "1  [0.0, 2.0, 3.0, 6.0, 8.0, 9.0, 11.0, 12.0, 13....   \n",
       "2  [0.0, 1.0, 3.0, 4.0, 5.0, 7.0, 8.0, 9.0, 10.0,...   \n",
       "3  [0.0, 1.0, 2.0, 3.0, 5.0, 6.0, 7.0, 8.0, 9.0, ...   \n",
       "4  [0.0, 2.0, 3.0, 4.0, 5.0, 6.0, 7.0, 8.0, 9.0, ...   \n",
       "\n",
       "                                              rating  \\\n",
       "0  [0.0, 0.0, 0.0, 0.0, 0.0, 0.0, 0.0, 0.0, 0.0, ...   \n",
       "1  [0.0, 0.0, 0.0, 0.0, 0.0, 0.0, 0.0, 0.0, 0.0, ...   \n",
       "2  [6.310345024296282e-10, 3.5043034012777197e-12...   \n",
       "3  [0.8584790825843811, 0.0488542802631855, 0.034...   \n",
       "4  [0.0, 0.0, 0.0, 0.0, 0.0, 0.0, 0.0, 0.0, 0.0, ...   \n",
       "\n",
       "                                  itemIndex_filtered  \\\n",
       "0  [361, 359, 358, 353, 339, 329, 315, 306, 299, ...   \n",
       "1  [362, 350, 344, 327, 326, 325, 318, 311, 307, ...   \n",
       "2  [243, 225, 155, 70, 45, 246, 171, 309, 173, 19...   \n",
       "3  [122, 97, 211, 68, 232, 238, 250, 179, 59, 272...   \n",
       "4  [356, 354, 352, 339, 336, 327, 317, 316, 305, ...   \n",
       "\n",
       "                                     rating_filtered  precision  \n",
       "0  [0.0, 0.0, 0.0, 0.0, 0.0, 0.0, 0.0, 0.0, 0.0, ...   0.542117  \n",
       "1  [0.0, 0.0, 0.0, 0.0, 0.0, 0.0, 0.0, 0.0, 0.0, ...   0.536759  \n",
       "2  [1.2526346062843863e-12, 1.6880703920200274e-1...   0.618995  \n",
       "3  [0.023703014478087425, 0.019505321979522705, 0...   0.730919  \n",
       "4  [0.0, 0.0, 0.0, 0.0, 0.0, 0.0, 0.0, 0.0, 0.0, ...   0.542117  "
      ]
     },
     "execution_count": 293,
     "metadata": {},
     "output_type": "execute_result"
    }
   ],
   "source": [
    "user_eval.head()"
   ]
  },
  {
   "cell_type": "code",
   "execution_count": null,
   "id": "9761ec8e-3b5c-42fc-9082-01552c0e6d37",
   "metadata": {},
   "outputs": [],
   "source": [
    "ranking_metrics = RankingMetrics(user_preds.rdd.map(lambda x: (x[1].item_id, x[1].rating)))\n",
    "ndcg_at_k = ranking_metrics.ndcgAt(k=10) "
   ]
  },
  {
   "cell_type": "code",
   "execution_count": 319,
   "id": "11e307d6-c560-48c2-ab88-24b829782806",
   "metadata": {},
   "outputs": [],
   "source": [
    "\n",
    "def compute_dcg(v):\n",
    "    \"\"\"\n",
    "    Compute DCG for a given list of relevance scores.\n",
    "    \n",
    "    Parameters:\n",
    "    v (list): List of relevance scores.\n",
    "    \n",
    "    Returns:\n",
    "    float: Discounted Cumulative Gain (DCG).\n",
    "    \"\"\"\n",
    "    if not v:\n",
    "        return 0.0\n",
    "    return sum([(2**rel - 1) / math.log2(idx + 2) for idx, rel in enumerate(v)])\n",
    "\n",
    "# Register the function as a PySpark UDF\n",
    "dcg_udf = udf(compute_dcg, FloatType())"
   ]
  },
  {
   "cell_type": "code",
   "execution_count": 311,
   "id": "bf12c001-18e7-4b79-b8df-edfc273122ba",
   "metadata": {},
   "outputs": [],
   "source": [
    "import numpy as np\n",
    "import math\n",
    "def score(predicted, actual, metric):\n",
    "        \"\"\"\n",
    "        Parameters\n",
    "        ----------\n",
    "        predicted : List\n",
    "            List of predicted apps.\n",
    "        actual : List\n",
    "            List of masked apps.\n",
    "        metric : 'precision' or 'ndcg'\n",
    "            A valid metric for recommendation.\n",
    "        Raises\n",
    "        -----\n",
    "        Returns\n",
    "        -------\n",
    "        m : float\n",
    "            score.\n",
    "        \"\"\"\n",
    "        valid_metrics = ['precision', 'ndcg']\n",
    "        if metric not in valid_metrics:\n",
    "            raise Exception(f\"Choose one valid baseline in the list: {valid_metrics}\")\n",
    "        if metric == 'precision':\n",
    "            m = np.mean([float(len(set(predicted[:k]) \n",
    "                                               & set(actual))) / float(k) \n",
    "                                     for k in range(1,len(actual)+1)])\n",
    "        # if metric == 'ndcg':\n",
    "        #     v = [1 if i in actual else 0 for i in predicted]\n",
    "        #     v_2 = [1 for i in actual]\n",
    "        #     #dcg = sum([(2**i-1)/math.log(k+2,2) for (k,i) in enumerate(v)])\n",
    "        #     dcg=dcg_udf(predicted, actual)\n",
    "        #     idcg = sum([(2**i-1)/math.log(k+2,2) for (k,i) in enumerate(v_2)])\n",
    "        #     m = dcg/idcg\n",
    "        # return m\n",
    "        elif metric == 'ndcg':\n",
    "            # Compute DCG\n",
    "            v = [1 if i in actual else 0 for i in predicted]\n",
    "            dcg = sum([(2**rel - 1) / math.log2(idx + 2) for idx, rel in enumerate(v)])\n",
    "            \n",
    "            # Compute IDCG (ideal DCG)\n",
    "            v_ideal = [1 for _ in actual]\n",
    "            idcg = sum([(2**rel - 1) / math.log2(idx + 2) for idx, rel in enumerate(v_ideal)])\n",
    "            \n",
    "            # Handle division by zero for empty actual list\n",
    "            m = dcg / idcg if idcg > 0 else 0.0\n",
    "        return m\n",
    "    \n",
    "user_eval['precision'] = user_eval.apply(lambda x: score(x.itemIndex_filtered, x.ground_truth_items, 'precision'), axis=1)\n",
    "#user_eval['NDCG'] = user_eval.apply(lambda x: score(x.itemIndex_filtered, x.ground_truth_items, 'ndcg'), axis=1)\n",
    "\n",
    "MAP = user_eval.precision.mean()\n",
    "#avg_NDCG = user_eval.NDCG.mean()"
   ]
  },
  {
   "cell_type": "code",
   "execution_count": 330,
   "id": "90e6ba62-9ef2-4ee9-98ff-faf0df7b3056",
   "metadata": {},
   "outputs": [
    {
     "name": "stdout",
     "output_type": "stream",
     "text": [
      "Mean Average Precision:  0.6187579630316979\n"
     ]
    }
   ],
   "source": [
    "print(\"Mean Average Precision: \", MAP)"
   ]
  },
  {
   "cell_type": "code",
   "execution_count": 315,
   "id": "9b0bc78e-1d61-4a66-b805-2c1c068cf402",
   "metadata": {},
   "outputs": [],
   "source": [
    "\n",
    "# Apply the UDF to the DataFrame\n",
    "# df = df.withColumn(\n",
    "#     \"dcg\",\n",
    "#     dcg_udf(df[\"itemIndex_filtered\"], df[\"ground_truth_items\"])\n",
    "# )\n"
   ]
  }
 ],
 "metadata": {
  "kernelspec": {
   "display_name": "DP_Project_env",
   "language": "python",
   "name": "ecommerce_reccomendation"
  },
  "language_info": {
   "codemirror_mode": {
    "name": "ipython",
    "version": 3
   },
   "file_extension": ".py",
   "mimetype": "text/x-python",
   "name": "python",
   "nbconvert_exporter": "python",
   "pygments_lexer": "ipython3",
   "version": "3.12.4"
  }
 },
 "nbformat": 4,
 "nbformat_minor": 5
}
